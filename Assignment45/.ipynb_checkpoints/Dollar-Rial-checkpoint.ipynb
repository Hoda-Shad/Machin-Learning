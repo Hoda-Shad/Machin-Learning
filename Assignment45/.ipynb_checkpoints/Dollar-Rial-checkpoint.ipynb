{
 "cells": [
  {
   "cell_type": "code",
   "execution_count": 42,
   "id": "468ee6d6-ba7f-4303-b6f5-e04018f0e0af",
   "metadata": {},
   "outputs": [],
   "source": [
    "import numpy as np\n",
    "import pandas as pd\n",
    "import matplotlib.pyplot as plt\n",
    "from sklearn.model_selection import train_test_split\n",
    "from LLS import LLs\n",
    "import re\n",
    "\n"
   ]
  },
  {
   "cell_type": "code",
   "execution_count": 43,
   "id": "6838deea-8809-4202-baa6-3700be215200",
   "metadata": {},
   "outputs": [],
   "source": [
    "df = pd.read_csv('Dollar_Rial_Price_Dataset.csv')\n",
    "df = df.drop(df.columns[0], axis=1)\n",
    "df[df.duplicated()]\n",
    "df.drop_duplicates(inplace=True)\n",
    "df['High'] = df['High'].apply(lambda x: re.sub(',', '', x))\n",
    "df[\"High\"] = pd.to_numeric(df[\"High\"] , errors='coerce')\n",
    "df['Low'] = df['Low'].apply(lambda x: re.sub(',', '', x))\n",
    "df[\"Low\"] = pd.to_numeric(df[\"Low\"] , errors='coerce')\n",
    "df['Open'] = df['Open'].apply(lambda x: re.sub(',', '', x))\n",
    "df[\"Open\"] = pd.to_numeric(df[\"Open\"] , errors='coerce')\n",
    "df['Close'] = df['Close'].apply(lambda x: re.sub(',', '', x))\n",
    "df[\"Close\"] = pd.to_numeric(df[\"Close\"] , errors='coerce')"
   ]
  },
  {
   "cell_type": "code",
   "execution_count": 44,
   "id": "334e0400-b9a9-4eeb-a917-e4e0684ee8ee",
   "metadata": {},
   "outputs": [
    {
     "data": {
      "text/html": [
       "<div>\n",
       "<style scoped>\n",
       "    .dataframe tbody tr th:only-of-type {\n",
       "        vertical-align: middle;\n",
       "    }\n",
       "\n",
       "    .dataframe tbody tr th {\n",
       "        vertical-align: top;\n",
       "    }\n",
       "\n",
       "    .dataframe thead th {\n",
       "        text-align: right;\n",
       "    }\n",
       "</style>\n",
       "<table border=\"1\" class=\"dataframe\">\n",
       "  <thead>\n",
       "    <tr style=\"text-align: right;\">\n",
       "      <th></th>\n",
       "      <th>Date</th>\n",
       "      <th>Persian_Date</th>\n",
       "      <th>Open</th>\n",
       "      <th>Low</th>\n",
       "      <th>High</th>\n",
       "      <th>Close</th>\n",
       "    </tr>\n",
       "  </thead>\n",
       "  <tbody>\n",
       "    <tr>\n",
       "      <th>0</th>\n",
       "      <td>11/27/2011</td>\n",
       "      <td>1390/09/06</td>\n",
       "      <td>13700</td>\n",
       "      <td>13700</td>\n",
       "      <td>13700</td>\n",
       "      <td>13700</td>\n",
       "    </tr>\n",
       "    <tr>\n",
       "      <th>1</th>\n",
       "      <td>11/28/2011</td>\n",
       "      <td>1390/09/07</td>\n",
       "      <td>13440</td>\n",
       "      <td>13440</td>\n",
       "      <td>13440</td>\n",
       "      <td>13440</td>\n",
       "    </tr>\n",
       "    <tr>\n",
       "      <th>2</th>\n",
       "      <td>11/29/2011</td>\n",
       "      <td>1390/09/08</td>\n",
       "      <td>13350</td>\n",
       "      <td>13350</td>\n",
       "      <td>13350</td>\n",
       "      <td>13350</td>\n",
       "    </tr>\n",
       "    <tr>\n",
       "      <th>3</th>\n",
       "      <td>11/30/2011</td>\n",
       "      <td>1390/09/09</td>\n",
       "      <td>13400</td>\n",
       "      <td>13400</td>\n",
       "      <td>13400</td>\n",
       "      <td>13400</td>\n",
       "    </tr>\n",
       "    <tr>\n",
       "      <th>4</th>\n",
       "      <td>12/1/2011</td>\n",
       "      <td>1390/09/10</td>\n",
       "      <td>13500</td>\n",
       "      <td>13500</td>\n",
       "      <td>13500</td>\n",
       "      <td>13500</td>\n",
       "    </tr>\n",
       "    <tr>\n",
       "      <th>...</th>\n",
       "      <td>...</td>\n",
       "      <td>...</td>\n",
       "      <td>...</td>\n",
       "      <td>...</td>\n",
       "      <td>...</td>\n",
       "      <td>...</td>\n",
       "    </tr>\n",
       "    <tr>\n",
       "      <th>3305</th>\n",
       "      <td>7/1/2023</td>\n",
       "      <td>1402/04/10</td>\n",
       "      <td>492660</td>\n",
       "      <td>492600</td>\n",
       "      <td>498400</td>\n",
       "      <td>498220</td>\n",
       "    </tr>\n",
       "    <tr>\n",
       "      <th>3306</th>\n",
       "      <td>7/2/2023</td>\n",
       "      <td>1402/04/11</td>\n",
       "      <td>500810</td>\n",
       "      <td>498600</td>\n",
       "      <td>500900</td>\n",
       "      <td>499340</td>\n",
       "    </tr>\n",
       "    <tr>\n",
       "      <th>3307</th>\n",
       "      <td>7/3/2023</td>\n",
       "      <td>1402/04/12</td>\n",
       "      <td>503210</td>\n",
       "      <td>501400</td>\n",
       "      <td>503400</td>\n",
       "      <td>502000</td>\n",
       "    </tr>\n",
       "    <tr>\n",
       "      <th>3308</th>\n",
       "      <td>7/4/2023</td>\n",
       "      <td>1402/04/13</td>\n",
       "      <td>502140</td>\n",
       "      <td>498300</td>\n",
       "      <td>502200</td>\n",
       "      <td>500750</td>\n",
       "    </tr>\n",
       "    <tr>\n",
       "      <th>3309</th>\n",
       "      <td>7/5/2023</td>\n",
       "      <td>1402/04/14</td>\n",
       "      <td>499030</td>\n",
       "      <td>498400</td>\n",
       "      <td>501400</td>\n",
       "      <td>500950</td>\n",
       "    </tr>\n",
       "  </tbody>\n",
       "</table>\n",
       "<p>3310 rows × 6 columns</p>\n",
       "</div>"
      ],
      "text/plain": [
       "            Date Persian_Date    Open     Low    High   Close\n",
       "0     11/27/2011   1390/09/06   13700   13700   13700   13700\n",
       "1     11/28/2011   1390/09/07   13440   13440   13440   13440\n",
       "2     11/29/2011   1390/09/08   13350   13350   13350   13350\n",
       "3     11/30/2011   1390/09/09   13400   13400   13400   13400\n",
       "4      12/1/2011   1390/09/10   13500   13500   13500   13500\n",
       "...          ...          ...     ...     ...     ...     ...\n",
       "3305    7/1/2023   1402/04/10  492660  492600  498400  498220\n",
       "3306    7/2/2023   1402/04/11  500810  498600  500900  499340\n",
       "3307    7/3/2023   1402/04/12  503210  501400  503400  502000\n",
       "3308    7/4/2023   1402/04/13  502140  498300  502200  500750\n",
       "3309    7/5/2023   1402/04/14  499030  498400  501400  500950\n",
       "\n",
       "[3310 rows x 6 columns]"
      ]
     },
     "execution_count": 44,
     "metadata": {},
     "output_type": "execute_result"
    }
   ],
   "source": [
    "df"
   ]
  },
  {
   "cell_type": "code",
   "execution_count": 88,
   "id": "4cfd68ca-7067-4173-a150-dc017e076679",
   "metadata": {},
   "outputs": [],
   "source": [
    "df_ahmadinejad = df.loc[df[\"Persian_Date\"].between(\"1390/01/01\", \"1392/05/12\")]\n",
    "df_rohani = df.loc[df[\"Persian_Date\"].between(\"1390/05/13\", \"1400/05/12\")]\n",
    "df_raeesi = df.loc[df[\"Persian_Date\"].between(\"1400/05/13\", \"1402/05/12\")]"
   ]
  },
  {
   "cell_type": "code",
   "execution_count": 46,
   "id": "7256836a-ed12-41a0-a2a8-3ef364449ca3",
   "metadata": {},
   "outputs": [
    {
     "data": {
      "image/png": "[encoded data removed]",
      "text/plain": [
       "<Figure size 640x480 with 1 Axes>"
      ]
     },
     "metadata": {},
     "output_type": "display_data"
    }
   ],
   "source": [
    "x = [\"Ahmadinejad\", \"Rohani\" , \"Raeesi\"]\n",
    "highest_doller_price= []\n",
    "highest_doller_price.append(df_ahmadinejad['High'].max())\n",
    "highest_doller_price.append(df_rohani['High'].max())\n",
    "highest_doller_price.append(df_raeesi['High'].max())\n",
    "\n",
    "plt.bar(x , highest_doller_price)\n",
    "plt.xlabel(\"Presidential period\")\n",
    "plt.ylabel(\"Maximum Dollar Price\")\n",
    "plt.title(\"Highest Dollar Price\")\n",
    "plt.show()\n",
    "\n"
   ]
  },
  {
   "cell_type": "code",
   "execution_count": 47,
   "id": "f3251b73-542a-4071-a6a8-c24ea7d76598",
   "metadata": {},
   "outputs": [
    {
     "name": "stdout",
     "output_type": "stream",
     "text": [
      "[13350, 12850, 251250]\n"
     ]
    },
    {
     "data": {
      "image/png": "[encoded data removed]",
      "text/plain": [
       "<Figure size 640x480 with 1 Axes>"
      ]
     },
     "metadata": {},
     "output_type": "display_data"
    }
   ],
   "source": [
    "lowest_doller_price= []\n",
    "lowest_doller_price.append(df_ahmadinejad['Low'].min())\n",
    "lowest_doller_price.append(df_rohani['Low'].min())\n",
    "lowest_doller_price.append(df_raeesi['Low'].min())\n",
    "print(lowest_doller_price)\n",
    "plt.bar(x , lowest_doller_price)\n",
    "plt.xlabel(\"Presidential period\")\n",
    "plt.ylabel(\"Minimum Dollar Price\")\n",
    "plt.title(\"Lowest Dollar Price\")\n",
    "plt.show()"
   ]
  },
  {
   "cell_type": "code",
   "execution_count": 49,
   "id": "f10e18ab-5cb7-4c0f-b49d-698961e8b8a3",
   "metadata": {},
   "outputs": [
    {
     "data": {
      "text/plain": [
       "0       11/27/2011\n",
       "1       11/28/2011\n",
       "2       11/29/2011\n",
       "3       11/30/2011\n",
       "4        12/1/2011\n",
       "           ...    \n",
       "2853     7/28/2021\n",
       "2854     7/31/2021\n",
       "2855      8/1/2021\n",
       "2856      8/2/2021\n",
       "2857      8/3/2021\n",
       "Name: Date, Length: 2858, dtype: object"
      ]
     },
     "execution_count": 49,
     "metadata": {},
     "output_type": "execute_result"
    }
   ],
   "source": [
    "df_rohani['Date']"
   ]
  },
  {
   "cell_type": "code",
   "execution_count": 50,
   "id": "19e0ba62-45a6-4c35-9b48-b308bc7b73e5",
   "metadata": {},
   "outputs": [
    {
     "name": "stderr",
     "output_type": "stream",
     "text": [
      "C:\\Users\\hdsha\\AppData\\Local\\Temp\\ipykernel_17700\\2550973361.py:2: SettingWithCopyWarning: \n",
      "A value is trying to be set on a copy of a slice from a DataFrame.\n",
      "Try using .loc[row_indexer,col_indexer] = value instead\n",
      "\n",
      "See the caveats in the documentation: https://pandas.pydata.org/pandas-docs/stable/user_guide/indexing.html#returning-a-view-versus-a-copy\n",
      "  df_ahmadinejad[\"Date\"] = df_ahmadinejad[\"Date\"].str.replace('/', '')\n",
      "C:\\Users\\hdsha\\AppData\\Local\\Temp\\ipykernel_17700\\2550973361.py:3: SettingWithCopyWarning: \n",
      "A value is trying to be set on a copy of a slice from a DataFrame\n",
      "\n",
      "See the caveats in the documentation: https://pandas.pydata.org/pandas-docs/stable/user_guide/indexing.html#returning-a-view-versus-a-copy\n",
      "  df_ahmadinejad.loc['Date'] = pd.to_datetime(df_ahmadinejad.Date, format='%m %d %Y',errors='coerce')\n"
     ]
    },
    {
     "data": {
      "text/plain": [
       "0       11272011\n",
       "1       11282011\n",
       "2       11292011\n",
       "3       11302011\n",
       "4        1212011\n",
       "          ...   \n",
       "479      7292013\n",
       "480      7312013\n",
       "481       812013\n",
       "482       832013\n",
       "Date         NaN\n",
       "Name: Date, Length: 484, dtype: object"
      ]
     },
     "execution_count": 50,
     "metadata": {},
     "output_type": "execute_result"
    }
   ],
   "source": [
    "df_ahmadinejad[\"Date\"].astype('str')\n",
    "df_ahmadinejad[\"Date\"] = df_ahmadinejad[\"Date\"].str.replace('/', '')\n",
    "df_ahmadinejad.loc['Date'] = pd.to_datetime(df_ahmadinejad.Date, format='%m %d %Y',errors='coerce')\n",
    "df_ahmadinejad['Date']"
   ]
  },
  {
   "cell_type": "code",
   "execution_count": 51,
   "id": "74214f95-97d0-4016-95ee-fbbc18ad7c14",
   "metadata": {},
   "outputs": [],
   "source": [
    "df_ahmadinejad = df_ahmadinejad.drop(['Persian_Date'], axis = 1)\n"
   ]
  },
  {
   "cell_type": "code",
   "execution_count": 52,
   "id": "e2951452-c97b-458b-be12-86ced412b481",
   "metadata": {},
   "outputs": [
    {
     "data": {
      "text/html": [
       "<div>\n",
       "<style scoped>\n",
       "    .dataframe tbody tr th:only-of-type {\n",
       "        vertical-align: middle;\n",
       "    }\n",
       "\n",
       "    .dataframe tbody tr th {\n",
       "        vertical-align: top;\n",
       "    }\n",
       "\n",
       "    .dataframe thead th {\n",
       "        text-align: right;\n",
       "    }\n",
       "</style>\n",
       "<table border=\"1\" class=\"dataframe\">\n",
       "  <thead>\n",
       "    <tr style=\"text-align: right;\">\n",
       "      <th></th>\n",
       "      <th>Date</th>\n",
       "      <th>Open</th>\n",
       "      <th>Low</th>\n",
       "      <th>High</th>\n",
       "      <th>Close</th>\n",
       "    </tr>\n",
       "  </thead>\n",
       "  <tbody>\n",
       "    <tr>\n",
       "      <th>Date</th>\n",
       "      <td>1.000000</td>\n",
       "      <td>-0.051796</td>\n",
       "      <td>-0.049055</td>\n",
       "      <td>-0.054735</td>\n",
       "      <td>-0.052578</td>\n",
       "    </tr>\n",
       "    <tr>\n",
       "      <th>Open</th>\n",
       "      <td>-0.051796</td>\n",
       "      <td>1.000000</td>\n",
       "      <td>0.999068</td>\n",
       "      <td>0.998682</td>\n",
       "      <td>0.998392</td>\n",
       "    </tr>\n",
       "    <tr>\n",
       "      <th>Low</th>\n",
       "      <td>-0.049055</td>\n",
       "      <td>0.999068</td>\n",
       "      <td>1.000000</td>\n",
       "      <td>0.997781</td>\n",
       "      <td>0.998599</td>\n",
       "    </tr>\n",
       "    <tr>\n",
       "      <th>High</th>\n",
       "      <td>-0.054735</td>\n",
       "      <td>0.998682</td>\n",
       "      <td>0.997781</td>\n",
       "      <td>1.000000</td>\n",
       "      <td>0.999507</td>\n",
       "    </tr>\n",
       "    <tr>\n",
       "      <th>Close</th>\n",
       "      <td>-0.052578</td>\n",
       "      <td>0.998392</td>\n",
       "      <td>0.998599</td>\n",
       "      <td>0.999507</td>\n",
       "      <td>1.000000</td>\n",
       "    </tr>\n",
       "  </tbody>\n",
       "</table>\n",
       "</div>"
      ],
      "text/plain": [
       "           Date      Open       Low      High     Close\n",
       "Date   1.000000 -0.051796 -0.049055 -0.054735 -0.052578\n",
       "Open  -0.051796  1.000000  0.999068  0.998682  0.998392\n",
       "Low   -0.049055  0.999068  1.000000  0.997781  0.998599\n",
       "High  -0.054735  0.998682  0.997781  1.000000  0.999507\n",
       "Close -0.052578  0.998392  0.998599  0.999507  1.000000"
      ]
     },
     "execution_count": 52,
     "metadata": {},
     "output_type": "execute_result"
    }
   ],
   "source": [
    "df_ahmadinejad = df_ahmadinejad[:483]\n",
    "df_ahmadinejad.corr()"
   ]
  },
  {
   "cell_type": "code",
   "execution_count": 53,
   "id": "84931f8e-9025-4fcf-bffe-a8aefba8c0af",
   "metadata": {},
   "outputs": [],
   "source": [
    "X_ahmadinejad =  (df_ahmadinejad[['Date']]).values\n",
    "Y_ahmadinejad = (df_ahmadinejad[['Close']]).values\n",
    "X_ahmadinejad = X_ahmadinejad.astype('float')\n",
    "Y_ahmadinejad = Y_ahmadinejad.astype('float')\n",
    "X_train_ahmadinejad , X_test_ahmadinejad , y_train_ahmadinejad , y_test_ahmadinejad  = train_test_split(X_ahmadinejad, Y_ahmadinejad, test_size = 0.25)"
   ]
  },
  {
   "cell_type": "code",
   "execution_count": 54,
   "id": "67e898e4-c716-4822-8580-34ba31799d7c",
   "metadata": {},
   "outputs": [
    {
     "data": {
      "text/plain": [
       "array([[0.00322345]])"
      ]
     },
     "execution_count": 54,
     "metadata": {},
     "output_type": "execute_result"
    }
   ],
   "source": [
    "lls = LLs()\n",
    "w_ahmadinejad = lls.fit(X_train, y_train)\n",
    "w_ahmadinejad"
   ]
  },
  {
   "cell_type": "code",
   "execution_count": 55,
   "id": "4b0ca335-4c4f-4eef-83b5-28f6f57bd63d",
   "metadata": {},
   "outputs": [],
   "source": [
    "from sklearn.metrics import mean_absolute_error as mae"
   ]
  },
  {
   "cell_type": "code",
   "execution_count": 56,
   "id": "41ce8959-d901-419c-80d8-73e45ddc0bd4",
   "metadata": {},
   "outputs": [],
   "source": [
    "y_pred_ahmadinejad = w_ahmadinejad * X_test_ahmadinejad"
   ]
  },
  {
   "cell_type": "code",
   "execution_count": 57,
   "id": "b8b19229-d7bb-4983-bb94-89483f89a161",
   "metadata": {},
   "outputs": [
    {
     "data": {
      "text/plain": [
       "14892.776863041327"
      ]
     },
     "execution_count": 57,
     "metadata": {},
     "output_type": "execute_result"
    }
   ],
   "source": [
    "Mean_Absolute_Error_AN = mae(y_test, y_pred)\n",
    "Mean_Absolute_Error_AN"
   ]
  },
  {
   "cell_type": "code",
   "execution_count": 58,
   "id": "dfa76c46-1617-4539-887c-1e25dc0da12a",
   "metadata": {},
   "outputs": [
    {
     "data": {
      "text/plain": [
       "0       11/27/2011\n",
       "1       11/28/2011\n",
       "2       11/29/2011\n",
       "3       11/30/2011\n",
       "4        12/1/2011\n",
       "           ...    \n",
       "2853     7/28/2021\n",
       "2854     7/31/2021\n",
       "2855      8/1/2021\n",
       "2856      8/2/2021\n",
       "2857      8/3/2021\n",
       "Name: Date, Length: 2858, dtype: object"
      ]
     },
     "execution_count": 58,
     "metadata": {},
     "output_type": "execute_result"
    }
   ],
   "source": [
    "df_rohani[\"Date\"]"
   ]
  },
  {
   "cell_type": "code",
   "execution_count": 89,
   "id": "abb7e62b-1185-461c-82e9-ba0d86458365",
   "metadata": {},
   "outputs": [
    {
     "name": "stderr",
     "output_type": "stream",
     "text": [
      "C:\\Users\\hdsha\\AppData\\Local\\Temp\\ipykernel_17700\\3018054981.py:1: SettingWithCopyWarning: \n",
      "A value is trying to be set on a copy of a slice from a DataFrame.\n",
      "Try using .loc[row_indexer,col_indexer] = value instead\n",
      "\n",
      "See the caveats in the documentation: https://pandas.pydata.org/pandas-docs/stable/user_guide/indexing.html#returning-a-view-versus-a-copy\n",
      "  df_rohani[\"Date\"] = df_rohani[\"Date\"].astype('str')\n",
      "C:\\Users\\hdsha\\AppData\\Local\\Temp\\ipykernel_17700\\3018054981.py:3: SettingWithCopyWarning: \n",
      "A value is trying to be set on a copy of a slice from a DataFrame.\n",
      "Try using .loc[row_indexer,col_indexer] = value instead\n",
      "\n",
      "See the caveats in the documentation: https://pandas.pydata.org/pandas-docs/stable/user_guide/indexing.html#returning-a-view-versus-a-copy\n",
      "  df_rohani[\"Date\"] = df_rohani[\"Date\"].str.replace('/', '')\n"
     ]
    },
    {
     "data": {
      "text/plain": [
       "0       11272011\n",
       "1       11282011\n",
       "2       11292011\n",
       "3       11302011\n",
       "4        1212011\n",
       "          ...   \n",
       "2853     7282021\n",
       "2854     7312021\n",
       "2855      812021\n",
       "2856      822021\n",
       "2857      832021\n",
       "Name: Date, Length: 2858, dtype: object"
      ]
     },
     "execution_count": 89,
     "metadata": {},
     "output_type": "execute_result"
    }
   ],
   "source": [
    "df_rohani[\"Date\"] = df_rohani[\"Date\"].astype('str')\n",
    "\n",
    "df_rohani[\"Date\"] = df_rohani[\"Date\"].str.replace('/', '')\n",
    "df_rohani[\"Date\"]\n"
   ]
  },
  {
   "cell_type": "code",
   "execution_count": 90,
   "id": "a937ad44-34bb-4398-9e3d-661a74e558dd",
   "metadata": {},
   "outputs": [
    {
     "name": "stderr",
     "output_type": "stream",
     "text": [
      "C:\\Users\\hdsha\\AppData\\Local\\Temp\\ipykernel_17700\\2353414099.py:2: SettingWithCopyWarning: \n",
      "A value is trying to be set on a copy of a slice from a DataFrame.\n",
      "Try using .loc[row_indexer,col_indexer] = value instead\n",
      "\n",
      "See the caveats in the documentation: https://pandas.pydata.org/pandas-docs/stable/user_guide/indexing.html#returning-a-view-versus-a-copy\n",
      "  df_rohani['Date'] = df_rohani.loc[:, 'Date'].tolist()\n"
     ]
    }
   ],
   "source": [
    "# df_rohani['Date'] = pd.to_datetime(df_rohani.Date, format='%m %d %Y',errors='coerce')\n",
    "df_rohani['Date'] = df_rohani.loc[:, 'Date'].tolist()"
   ]
  },
  {
   "cell_type": "code",
   "execution_count": 91,
   "id": "8506ac6e-d9b1-426b-8bfb-59a773e52f3c",
   "metadata": {},
   "outputs": [
    {
     "data": {
      "text/plain": [
       "0       11272011\n",
       "1       11282011\n",
       "2       11292011\n",
       "3       11302011\n",
       "4        1212011\n",
       "          ...   \n",
       "2853     7282021\n",
       "2854     7312021\n",
       "2855      812021\n",
       "2856      822021\n",
       "2857      832021\n",
       "Name: Date, Length: 2858, dtype: object"
      ]
     },
     "execution_count": 91,
     "metadata": {},
     "output_type": "execute_result"
    }
   ],
   "source": [
    "df_rohani['Date']"
   ]
  },
  {
   "cell_type": "code",
   "execution_count": 92,
   "id": "8e493730-7212-4f26-b452-973214f53e98",
   "metadata": {},
   "outputs": [
    {
     "data": {
      "text/html": [
       "<div>\n",
       "<style scoped>\n",
       "    .dataframe tbody tr th:only-of-type {\n",
       "        vertical-align: middle;\n",
       "    }\n",
       "\n",
       "    .dataframe tbody tr th {\n",
       "        vertical-align: top;\n",
       "    }\n",
       "\n",
       "    .dataframe thead th {\n",
       "        text-align: right;\n",
       "    }\n",
       "</style>\n",
       "<table border=\"1\" class=\"dataframe\">\n",
       "  <thead>\n",
       "    <tr style=\"text-align: right;\">\n",
       "      <th></th>\n",
       "      <th>Date</th>\n",
       "      <th>Persian_Date</th>\n",
       "      <th>Open</th>\n",
       "      <th>Low</th>\n",
       "      <th>High</th>\n",
       "      <th>Close</th>\n",
       "    </tr>\n",
       "  </thead>\n",
       "  <tbody>\n",
       "    <tr>\n",
       "      <th>0</th>\n",
       "      <td>11272011</td>\n",
       "      <td>1390/09/06</td>\n",
       "      <td>13700</td>\n",
       "      <td>13700</td>\n",
       "      <td>13700</td>\n",
       "      <td>13700</td>\n",
       "    </tr>\n",
       "    <tr>\n",
       "      <th>1</th>\n",
       "      <td>11282011</td>\n",
       "      <td>1390/09/07</td>\n",
       "      <td>13440</td>\n",
       "      <td>13440</td>\n",
       "      <td>13440</td>\n",
       "      <td>13440</td>\n",
       "    </tr>\n",
       "    <tr>\n",
       "      <th>2</th>\n",
       "      <td>11292011</td>\n",
       "      <td>1390/09/08</td>\n",
       "      <td>13350</td>\n",
       "      <td>13350</td>\n",
       "      <td>13350</td>\n",
       "      <td>13350</td>\n",
       "    </tr>\n",
       "    <tr>\n",
       "      <th>3</th>\n",
       "      <td>11302011</td>\n",
       "      <td>1390/09/09</td>\n",
       "      <td>13400</td>\n",
       "      <td>13400</td>\n",
       "      <td>13400</td>\n",
       "      <td>13400</td>\n",
       "    </tr>\n",
       "    <tr>\n",
       "      <th>4</th>\n",
       "      <td>1212011</td>\n",
       "      <td>1390/09/10</td>\n",
       "      <td>13500</td>\n",
       "      <td>13500</td>\n",
       "      <td>13500</td>\n",
       "      <td>13500</td>\n",
       "    </tr>\n",
       "    <tr>\n",
       "      <th>...</th>\n",
       "      <td>...</td>\n",
       "      <td>...</td>\n",
       "      <td>...</td>\n",
       "      <td>...</td>\n",
       "      <td>...</td>\n",
       "      <td>...</td>\n",
       "    </tr>\n",
       "    <tr>\n",
       "      <th>2853</th>\n",
       "      <td>7282021</td>\n",
       "      <td>1400/05/06</td>\n",
       "      <td>251800</td>\n",
       "      <td>251690</td>\n",
       "      <td>256240</td>\n",
       "      <td>255990</td>\n",
       "    </tr>\n",
       "    <tr>\n",
       "      <th>2854</th>\n",
       "      <td>7312021</td>\n",
       "      <td>1400/05/09</td>\n",
       "      <td>260270</td>\n",
       "      <td>256990</td>\n",
       "      <td>260640</td>\n",
       "      <td>257290</td>\n",
       "    </tr>\n",
       "    <tr>\n",
       "      <th>2855</th>\n",
       "      <td>812021</td>\n",
       "      <td>1400/05/10</td>\n",
       "      <td>257190</td>\n",
       "      <td>254290</td>\n",
       "      <td>257640</td>\n",
       "      <td>254890</td>\n",
       "    </tr>\n",
       "    <tr>\n",
       "      <th>2856</th>\n",
       "      <td>822021</td>\n",
       "      <td>1400/05/11</td>\n",
       "      <td>255690</td>\n",
       "      <td>254590</td>\n",
       "      <td>256640</td>\n",
       "      <td>255190</td>\n",
       "    </tr>\n",
       "    <tr>\n",
       "      <th>2857</th>\n",
       "      <td>832021</td>\n",
       "      <td>1400/05/12</td>\n",
       "      <td>255790</td>\n",
       "      <td>255690</td>\n",
       "      <td>258140</td>\n",
       "      <td>257290</td>\n",
       "    </tr>\n",
       "  </tbody>\n",
       "</table>\n",
       "<p>2858 rows × 6 columns</p>\n",
       "</div>"
      ],
      "text/plain": [
       "          Date Persian_Date    Open     Low    High   Close\n",
       "0     11272011   1390/09/06   13700   13700   13700   13700\n",
       "1     11282011   1390/09/07   13440   13440   13440   13440\n",
       "2     11292011   1390/09/08   13350   13350   13350   13350\n",
       "3     11302011   1390/09/09   13400   13400   13400   13400\n",
       "4      1212011   1390/09/10   13500   13500   13500   13500\n",
       "...        ...          ...     ...     ...     ...     ...\n",
       "2853   7282021   1400/05/06  251800  251690  256240  255990\n",
       "2854   7312021   1400/05/09  260270  256990  260640  257290\n",
       "2855    812021   1400/05/10  257190  254290  257640  254890\n",
       "2856    822021   1400/05/11  255690  254590  256640  255190\n",
       "2857    832021   1400/05/12  255790  255690  258140  257290\n",
       "\n",
       "[2858 rows x 6 columns]"
      ]
     },
     "execution_count": 92,
     "metadata": {},
     "output_type": "execute_result"
    }
   ],
   "source": [
    "df_rohani"
   ]
  },
  {
   "cell_type": "code",
   "execution_count": 93,
   "id": "0b1d8d9f-f865-481b-a1a0-6edda8c8e426",
   "metadata": {},
   "outputs": [],
   "source": [
    "df_rohani = df_rohani.drop(['Persian_Date'], axis = 1)"
   ]
  },
  {
   "cell_type": "code",
   "execution_count": 94,
   "id": "0f212671-7fea-4d6c-b8e4-cbe4aa240293",
   "metadata": {},
   "outputs": [],
   "source": [
    "X_rohani =  (df_rohani[['Date']]).values\n",
    "Y_rohani = (df_rohani[['Close']]).values\n",
    "X_rohani = X_rohani.astype('float')\n",
    "Y_rohani = Y_rohani.astype('float')\n",
    "X_train_rohani , X_test_rohani , y_train_rohani , y_test_rohani  = train_test_split(X_rohani, Y_rohani, test_size = 0.25)"
   ]
  },
  {
   "cell_type": "code",
   "execution_count": 97,
   "id": "74f50009-f3b9-4c39-94dd-484ce01207f0",
   "metadata": {},
   "outputs": [
    {
     "data": {
      "text/plain": [
       "array([[0.00890009]])"
      ]
     },
     "execution_count": 97,
     "metadata": {},
     "output_type": "execute_result"
    }
   ],
   "source": [
    "lls = LLs()\n",
    "w_rohani = lls.fit(X_train_rohani,y_train_rohani)\n",
    "w_rohani"
   ]
  },
  {
   "cell_type": "code",
   "execution_count": 99,
   "id": "a8bdecbf-8e86-4a75-a7a9-9bce241c4b85",
   "metadata": {},
   "outputs": [],
   "source": [
    "y_pred_rohani = X_test_rohani * w_rohani"
   ]
  },
  {
   "cell_type": "code",
   "execution_count": 100,
   "id": "e8897a26-edf8-4751-9f2c-32c18049ef66",
   "metadata": {},
   "outputs": [],
   "source": [
    "Mean_Absolute_Error_Ro = mae(y_test_rohani , y_pred_rohani)"
   ]
  },
  {
   "cell_type": "code",
   "execution_count": 101,
   "id": "ab44067c-2afb-4cf4-9eb7-e22b005fd865",
   "metadata": {},
   "outputs": [
    {
     "data": {
      "text/plain": [
       "61144.98172058964"
      ]
     },
     "execution_count": 101,
     "metadata": {},
     "output_type": "execute_result"
    }
   ],
   "source": [
    "Mean_Absolute_Error_Ro"
   ]
  },
  {
   "cell_type": "code",
   "execution_count": 102,
   "id": "418b5dd5-faed-4227-991f-2b58baeb4331",
   "metadata": {},
   "outputs": [],
   "source": [
    "## Raeesi "
   ]
  },
  {
   "cell_type": "code",
   "execution_count": 107,
   "id": "b6e6b91a-4607-414d-87ad-5ea49ee23246",
   "metadata": {},
   "outputs": [
    {
     "name": "stderr",
     "output_type": "stream",
     "text": [
      "C:\\Users\\hdsha\\AppData\\Local\\Temp\\ipykernel_17700\\614825010.py:1: SettingWithCopyWarning: \n",
      "A value is trying to be set on a copy of a slice from a DataFrame.\n",
      "Try using .loc[row_indexer,col_indexer] = value instead\n",
      "\n",
      "See the caveats in the documentation: https://pandas.pydata.org/pandas-docs/stable/user_guide/indexing.html#returning-a-view-versus-a-copy\n",
      "  df_raeesi[\"Date\"] = df_raeesi[\"Date\"].astype('str')\n",
      "C:\\Users\\hdsha\\AppData\\Local\\Temp\\ipykernel_17700\\614825010.py:3: SettingWithCopyWarning: \n",
      "A value is trying to be set on a copy of a slice from a DataFrame.\n",
      "Try using .loc[row_indexer,col_indexer] = value instead\n",
      "\n",
      "See the caveats in the documentation: https://pandas.pydata.org/pandas-docs/stable/user_guide/indexing.html#returning-a-view-versus-a-copy\n",
      "  df_raeesi[\"Date\"] = df_raeesi[\"Date\"].str.replace('/', '')\n",
      "C:\\Users\\hdsha\\AppData\\Local\\Temp\\ipykernel_17700\\614825010.py:6: SettingWithCopyWarning: \n",
      "A value is trying to be set on a copy of a slice from a DataFrame.\n",
      "Try using .loc[row_indexer,col_indexer] = value instead\n",
      "\n",
      "See the caveats in the documentation: https://pandas.pydata.org/pandas-docs/stable/user_guide/indexing.html#returning-a-view-versus-a-copy\n",
      "  df_raeesi['Date'] = df_raeesi.loc[:, 'Date'].tolist()\n"
     ]
    }
   ],
   "source": [
    "df_raeesi[\"Date\"] = df_raeesi[\"Date\"].astype('str')\n",
    "\n",
    "df_raeesi[\"Date\"] = df_raeesi[\"Date\"].str.replace('/', '')\n",
    "df_raeesi[\"Date\"]\n",
    "# df_rohani['Date'] = pd.to_datetime(df_rohani.Date, format='%m %d %Y',errors='coerce')\n",
    "df_raeesi['Date'] = df_raeesi.loc[:, 'Date'].tolist()"
   ]
  },
  {
   "cell_type": "code",
   "execution_count": 108,
   "id": "b1142431-f944-4675-8249-f0577484c57e",
   "metadata": {},
   "outputs": [
    {
     "data": {
      "text/plain": [
       "2858    842021\n",
       "2859    852021\n",
       "2860    872021\n",
       "2861    882021\n",
       "2862    892021\n",
       "         ...  \n",
       "3305    712023\n",
       "3306    722023\n",
       "3307    732023\n",
       "3308    742023\n",
       "3309    752023\n",
       "Name: Date, Length: 452, dtype: object"
      ]
     },
     "execution_count": 108,
     "metadata": {},
     "output_type": "execute_result"
    }
   ],
   "source": [
    "df_raeesi['Date']"
   ]
  },
  {
   "cell_type": "code",
   "execution_count": 115,
   "id": "5c675642-79f8-4571-b6bc-4ec49c6487e4",
   "metadata": {},
   "outputs": [],
   "source": [
    "# df_raeesi = df_rohani.drop(['Persian_Date'], axis = 1)\n",
    "X_raeesi =  (df_raeesi[['Date']]).values\n",
    "Y_raeesi = (df_rohani[['Close']]).values\n",
    "X_raeesi = X_rohani.astype('float')\n",
    "Y_raeesi = Y_rohani.astype('float')\n",
    "X_train_raeesi , X_test_raeesi , y_train_raeesi , y_test_raeesi  = train_test_split(X_raeesi, Y_raeesi, test_size = 0.25)"
   ]
  },
  {
   "cell_type": "code",
   "execution_count": 116,
   "id": "fa020db4-0eab-4342-a114-2856f73a7ed3",
   "metadata": {},
   "outputs": [
    {
     "data": {
      "text/plain": [
       "array([[0.00890009]])"
      ]
     },
     "execution_count": 116,
     "metadata": {},
     "output_type": "execute_result"
    }
   ],
   "source": [
    "lls = LLs()\n",
    "w_raeesi = lls.fit(X_train_rohani,y_train_rohani)\n",
    "w_raeesi"
   ]
  },
  {
   "cell_type": "code",
   "execution_count": 117,
   "id": "bf69c4c6-376f-4876-870f-36ea0d118ffc",
   "metadata": {
    "scrolled": true
   },
   "outputs": [],
   "source": [
    "y_pred_raeesi = X_test_raeesi * w_raeesi"
   ]
  },
  {
   "cell_type": "code",
   "execution_count": 118,
   "id": "677c3ae4-9dc2-436b-8c07-0e618f97d93c",
   "metadata": {},
   "outputs": [
    {
     "data": {
      "text/plain": [
       "64991.215207617286"
      ]
     },
     "execution_count": 118,
     "metadata": {},
     "output_type": "execute_result"
    }
   ],
   "source": [
    "Mean_Absolute_Error_Ra = mae(y_test_raeesi, y_pred_raeesi)\n",
    "Mean_Absolute_Error_Ra"
   ]
  },
  {
   "cell_type": "code",
   "execution_count": null,
   "id": "3e4a7fb1-4bf6-444e-81a1-1f9af4be1d2b",
   "metadata": {},
   "outputs": [],
   "source": []
  }
 ],
 "metadata": {
  "kernelspec": {
   "display_name": "Python 3 (ipykernel)",
   "language": "python",
   "name": "python3"
  },
  "language_info": {
   "codemirror_mode": {
    "name": "ipython",
    "version": 3
   },
   "file_extension": ".py",
   "mimetype": "text/x-python",
   "name": "python",
   "nbconvert_exporter": "python",
   "pygments_lexer": "ipython3",
   "version": "3.11.3"
  }
 },
 "nbformat": 4,
 "nbformat_minor": 5
}
