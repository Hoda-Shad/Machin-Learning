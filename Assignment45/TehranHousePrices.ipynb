{
 "cells": [
  {
   "cell_type": "code",
   "execution_count": 53,
   "id": "bea0531a-7fcc-4a41-9d47-5381e1eb9976",
   "metadata": {},
   "outputs": [],
   "source": [
    "import numpy as np \n",
    "import matplotlib.pyplot as plt\n",
    "import pandas as pd \n",
    "from LLS import LLs\n",
    "from sklearn.model_selection import train_test_split\n",
    "import re\n",
    "import seaborn as sns"
   ]
  },
  {
   "cell_type": "code",
   "execution_count": 54,
   "id": "b388f73c-d43f-4ab3-9cb9-7a838535b3e9",
   "metadata": {},
   "outputs": [],
   "source": [
    "df  = pd.read_csv('HousePrice.csv')"
   ]
  },
  {
   "cell_type": "code",
   "execution_count": 55,
   "id": "02012201-1d63-4f8a-8e7e-8249718340d4",
   "metadata": {},
   "outputs": [
    {
     "data": {
      "text/html": [
       "<div>\n",
       "<style scoped>\n",
       "    .dataframe tbody tr th:only-of-type {\n",
       "        vertical-align: middle;\n",
       "    }\n",
       "\n",
       "    .dataframe tbody tr th {\n",
       "        vertical-align: top;\n",
       "    }\n",
       "\n",
       "    .dataframe thead th {\n",
       "        text-align: right;\n",
       "    }\n",
       "</style>\n",
       "<table border=\"1\" class=\"dataframe\">\n",
       "  <thead>\n",
       "    <tr style=\"text-align: right;\">\n",
       "      <th></th>\n",
       "      <th>Area</th>\n",
       "      <th>Room</th>\n",
       "      <th>Parking</th>\n",
       "      <th>Warehouse</th>\n",
       "      <th>Elevator</th>\n",
       "      <th>Address</th>\n",
       "      <th>Price</th>\n",
       "      <th>Price(USD)</th>\n",
       "    </tr>\n",
       "  </thead>\n",
       "  <tbody>\n",
       "    <tr>\n",
       "      <th>0</th>\n",
       "      <td>63</td>\n",
       "      <td>1</td>\n",
       "      <td>True</td>\n",
       "      <td>True</td>\n",
       "      <td>True</td>\n",
       "      <td>Shahran</td>\n",
       "      <td>1.850000e+09</td>\n",
       "      <td>61666.67</td>\n",
       "    </tr>\n",
       "    <tr>\n",
       "      <th>1</th>\n",
       "      <td>60</td>\n",
       "      <td>1</td>\n",
       "      <td>True</td>\n",
       "      <td>True</td>\n",
       "      <td>True</td>\n",
       "      <td>Shahran</td>\n",
       "      <td>1.850000e+09</td>\n",
       "      <td>61666.67</td>\n",
       "    </tr>\n",
       "    <tr>\n",
       "      <th>2</th>\n",
       "      <td>79</td>\n",
       "      <td>2</td>\n",
       "      <td>True</td>\n",
       "      <td>True</td>\n",
       "      <td>True</td>\n",
       "      <td>Pardis</td>\n",
       "      <td>5.500000e+08</td>\n",
       "      <td>18333.33</td>\n",
       "    </tr>\n",
       "    <tr>\n",
       "      <th>3</th>\n",
       "      <td>95</td>\n",
       "      <td>2</td>\n",
       "      <td>True</td>\n",
       "      <td>True</td>\n",
       "      <td>True</td>\n",
       "      <td>Shahrake Qods</td>\n",
       "      <td>9.025000e+08</td>\n",
       "      <td>30083.33</td>\n",
       "    </tr>\n",
       "    <tr>\n",
       "      <th>4</th>\n",
       "      <td>123</td>\n",
       "      <td>2</td>\n",
       "      <td>True</td>\n",
       "      <td>True</td>\n",
       "      <td>True</td>\n",
       "      <td>Shahrake Gharb</td>\n",
       "      <td>7.000000e+09</td>\n",
       "      <td>233333.33</td>\n",
       "    </tr>\n",
       "  </tbody>\n",
       "</table>\n",
       "</div>"
      ],
      "text/plain": [
       "  Area  Room  Parking  Warehouse  Elevator         Address         Price  \\\n",
       "0   63     1     True       True      True         Shahran  1.850000e+09   \n",
       "1   60     1     True       True      True         Shahran  1.850000e+09   \n",
       "2   79     2     True       True      True          Pardis  5.500000e+08   \n",
       "3   95     2     True       True      True   Shahrake Qods  9.025000e+08   \n",
       "4  123     2     True       True      True  Shahrake Gharb  7.000000e+09   \n",
       "\n",
       "   Price(USD)  \n",
       "0    61666.67  \n",
       "1    61666.67  \n",
       "2    18333.33  \n",
       "3    30083.33  \n",
       "4   233333.33  "
      ]
     },
     "execution_count": 55,
     "metadata": {},
     "output_type": "execute_result"
    }
   ],
   "source": [
    "df.head()"
   ]
  },
  {
   "cell_type": "code",
   "execution_count": 56,
   "id": "4583beeb-4e74-4753-90da-d8e40f90d9d9",
   "metadata": {},
   "outputs": [
    {
     "data": {
      "text/html": [
       "<div>\n",
       "<style scoped>\n",
       "    .dataframe tbody tr th:only-of-type {\n",
       "        vertical-align: middle;\n",
       "    }\n",
       "\n",
       "    .dataframe tbody tr th {\n",
       "        vertical-align: top;\n",
       "    }\n",
       "\n",
       "    .dataframe thead th {\n",
       "        text-align: right;\n",
       "    }\n",
       "</style>\n",
       "<table border=\"1\" class=\"dataframe\">\n",
       "  <thead>\n",
       "    <tr style=\"text-align: right;\">\n",
       "      <th></th>\n",
       "      <th>Area</th>\n",
       "      <th>Room</th>\n",
       "      <th>Parking</th>\n",
       "      <th>Warehouse</th>\n",
       "      <th>Elevator</th>\n",
       "      <th>Address</th>\n",
       "      <th>Price</th>\n",
       "      <th>Price(USD)</th>\n",
       "    </tr>\n",
       "  </thead>\n",
       "  <tbody>\n",
       "    <tr>\n",
       "      <th>55</th>\n",
       "      <td>61</td>\n",
       "      <td>1</td>\n",
       "      <td>True</td>\n",
       "      <td>True</td>\n",
       "      <td>False</td>\n",
       "      <td>Punak</td>\n",
       "      <td>2.030000e+09</td>\n",
       "      <td>67666.67</td>\n",
       "    </tr>\n",
       "    <tr>\n",
       "      <th>78</th>\n",
       "      <td>74</td>\n",
       "      <td>2</td>\n",
       "      <td>True</td>\n",
       "      <td>True</td>\n",
       "      <td>True</td>\n",
       "      <td>Amirieh</td>\n",
       "      <td>1.700000e+09</td>\n",
       "      <td>56666.67</td>\n",
       "    </tr>\n",
       "    <tr>\n",
       "      <th>79</th>\n",
       "      <td>88</td>\n",
       "      <td>3</td>\n",
       "      <td>False</td>\n",
       "      <td>False</td>\n",
       "      <td>True</td>\n",
       "      <td>Parand</td>\n",
       "      <td>5.600000e+08</td>\n",
       "      <td>18666.67</td>\n",
       "    </tr>\n",
       "    <tr>\n",
       "      <th>80</th>\n",
       "      <td>63</td>\n",
       "      <td>1</td>\n",
       "      <td>True</td>\n",
       "      <td>True</td>\n",
       "      <td>True</td>\n",
       "      <td>Punak</td>\n",
       "      <td>2.150000e+09</td>\n",
       "      <td>71666.67</td>\n",
       "    </tr>\n",
       "    <tr>\n",
       "      <th>81</th>\n",
       "      <td>114</td>\n",
       "      <td>3</td>\n",
       "      <td>True</td>\n",
       "      <td>True</td>\n",
       "      <td>True</td>\n",
       "      <td>Sattarkhan</td>\n",
       "      <td>5.500000e+09</td>\n",
       "      <td>183333.33</td>\n",
       "    </tr>\n",
       "    <tr>\n",
       "      <th>...</th>\n",
       "      <td>...</td>\n",
       "      <td>...</td>\n",
       "      <td>...</td>\n",
       "      <td>...</td>\n",
       "      <td>...</td>\n",
       "      <td>...</td>\n",
       "      <td>...</td>\n",
       "      <td>...</td>\n",
       "    </tr>\n",
       "    <tr>\n",
       "      <th>3449</th>\n",
       "      <td>80</td>\n",
       "      <td>2</td>\n",
       "      <td>True</td>\n",
       "      <td>True</td>\n",
       "      <td>True</td>\n",
       "      <td>Punak</td>\n",
       "      <td>3.760000e+09</td>\n",
       "      <td>125333.33</td>\n",
       "    </tr>\n",
       "    <tr>\n",
       "      <th>3451</th>\n",
       "      <td>88</td>\n",
       "      <td>2</td>\n",
       "      <td>True</td>\n",
       "      <td>True</td>\n",
       "      <td>True</td>\n",
       "      <td>Central Janatabad</td>\n",
       "      <td>4.000000e+09</td>\n",
       "      <td>133333.33</td>\n",
       "    </tr>\n",
       "    <tr>\n",
       "      <th>3459</th>\n",
       "      <td>80</td>\n",
       "      <td>2</td>\n",
       "      <td>True</td>\n",
       "      <td>True</td>\n",
       "      <td>True</td>\n",
       "      <td>Ostad Moein</td>\n",
       "      <td>2.250000e+09</td>\n",
       "      <td>75000.00</td>\n",
       "    </tr>\n",
       "    <tr>\n",
       "      <th>3461</th>\n",
       "      <td>55</td>\n",
       "      <td>1</td>\n",
       "      <td>True</td>\n",
       "      <td>True</td>\n",
       "      <td>True</td>\n",
       "      <td>Punak</td>\n",
       "      <td>2.300000e+09</td>\n",
       "      <td>76666.67</td>\n",
       "    </tr>\n",
       "    <tr>\n",
       "      <th>3476</th>\n",
       "      <td>75</td>\n",
       "      <td>2</td>\n",
       "      <td>False</td>\n",
       "      <td>False</td>\n",
       "      <td>False</td>\n",
       "      <td>Parand</td>\n",
       "      <td>3.650000e+08</td>\n",
       "      <td>12166.67</td>\n",
       "    </tr>\n",
       "  </tbody>\n",
       "</table>\n",
       "<p>208 rows × 8 columns</p>\n",
       "</div>"
      ],
      "text/plain": [
       "     Area  Room  Parking  Warehouse  Elevator            Address  \\\n",
       "55     61     1     True       True     False              Punak   \n",
       "78     74     2     True       True      True            Amirieh   \n",
       "79     88     3    False      False      True             Parand   \n",
       "80     63     1     True       True      True              Punak   \n",
       "81    114     3     True       True      True         Sattarkhan   \n",
       "...   ...   ...      ...        ...       ...                ...   \n",
       "3449   80     2     True       True      True              Punak   \n",
       "3451   88     2     True       True      True  Central Janatabad   \n",
       "3459   80     2     True       True      True        Ostad Moein   \n",
       "3461   55     1     True       True      True              Punak   \n",
       "3476   75     2    False      False     False             Parand   \n",
       "\n",
       "             Price  Price(USD)  \n",
       "55    2.030000e+09    67666.67  \n",
       "78    1.700000e+09    56666.67  \n",
       "79    5.600000e+08    18666.67  \n",
       "80    2.150000e+09    71666.67  \n",
       "81    5.500000e+09   183333.33  \n",
       "...            ...         ...  \n",
       "3449  3.760000e+09   125333.33  \n",
       "3451  4.000000e+09   133333.33  \n",
       "3459  2.250000e+09    75000.00  \n",
       "3461  2.300000e+09    76666.67  \n",
       "3476  3.650000e+08    12166.67  \n",
       "\n",
       "[208 rows x 8 columns]"
      ]
     },
     "execution_count": 56,
     "metadata": {},
     "output_type": "execute_result"
    }
   ],
   "source": [
    "df[df.duplicated()]"
   ]
  },
  {
   "cell_type": "code",
   "execution_count": 57,
   "id": "ea875f61-fda9-4065-8b2c-cb164256a25e",
   "metadata": {},
   "outputs": [
    {
     "name": "stdout",
     "output_type": "stream",
     "text": [
      "Area           object\n",
      "Room            int64\n",
      "Parking          bool\n",
      "Warehouse        bool\n",
      "Elevator         bool\n",
      "Address        object\n",
      "Price         float64\n",
      "Price(USD)    float64\n",
      "dtype: object\n"
     ]
    }
   ],
   "source": [
    "print(df.dtypes)"
   ]
  },
  {
   "cell_type": "code",
   "execution_count": 58,
   "id": "6d2568c5-7daf-444d-8e4c-48a0ae1533eb",
   "metadata": {},
   "outputs": [],
   "source": [
    "df.drop_duplicates(inplace=True)"
   ]
  },
  {
   "cell_type": "code",
   "execution_count": 59,
   "id": "a7cac01d-7430-4d1f-bdf9-c90574d6aec7",
   "metadata": {},
   "outputs": [
    {
     "data": {
      "text/html": [
       "<div>\n",
       "<style scoped>\n",
       "    .dataframe tbody tr th:only-of-type {\n",
       "        vertical-align: middle;\n",
       "    }\n",
       "\n",
       "    .dataframe tbody tr th {\n",
       "        vertical-align: top;\n",
       "    }\n",
       "\n",
       "    .dataframe thead th {\n",
       "        text-align: right;\n",
       "    }\n",
       "</style>\n",
       "<table border=\"1\" class=\"dataframe\">\n",
       "  <thead>\n",
       "    <tr style=\"text-align: right;\">\n",
       "      <th></th>\n",
       "      <th>Area</th>\n",
       "      <th>Room</th>\n",
       "      <th>Parking</th>\n",
       "      <th>Warehouse</th>\n",
       "      <th>Elevator</th>\n",
       "      <th>Address</th>\n",
       "      <th>Price</th>\n",
       "      <th>Price(USD)</th>\n",
       "    </tr>\n",
       "  </thead>\n",
       "  <tbody>\n",
       "    <tr>\n",
       "      <th>0</th>\n",
       "      <td>63</td>\n",
       "      <td>1</td>\n",
       "      <td>True</td>\n",
       "      <td>True</td>\n",
       "      <td>True</td>\n",
       "      <td>Shahran</td>\n",
       "      <td>1.850000e+09</td>\n",
       "      <td>61666.67</td>\n",
       "    </tr>\n",
       "    <tr>\n",
       "      <th>1</th>\n",
       "      <td>60</td>\n",
       "      <td>1</td>\n",
       "      <td>True</td>\n",
       "      <td>True</td>\n",
       "      <td>True</td>\n",
       "      <td>Shahran</td>\n",
       "      <td>1.850000e+09</td>\n",
       "      <td>61666.67</td>\n",
       "    </tr>\n",
       "    <tr>\n",
       "      <th>2</th>\n",
       "      <td>79</td>\n",
       "      <td>2</td>\n",
       "      <td>True</td>\n",
       "      <td>True</td>\n",
       "      <td>True</td>\n",
       "      <td>Pardis</td>\n",
       "      <td>5.500000e+08</td>\n",
       "      <td>18333.33</td>\n",
       "    </tr>\n",
       "    <tr>\n",
       "      <th>3</th>\n",
       "      <td>95</td>\n",
       "      <td>2</td>\n",
       "      <td>True</td>\n",
       "      <td>True</td>\n",
       "      <td>True</td>\n",
       "      <td>Shahrake Qods</td>\n",
       "      <td>9.025000e+08</td>\n",
       "      <td>30083.33</td>\n",
       "    </tr>\n",
       "    <tr>\n",
       "      <th>4</th>\n",
       "      <td>123</td>\n",
       "      <td>2</td>\n",
       "      <td>True</td>\n",
       "      <td>True</td>\n",
       "      <td>True</td>\n",
       "      <td>Shahrake Gharb</td>\n",
       "      <td>7.000000e+09</td>\n",
       "      <td>233333.33</td>\n",
       "    </tr>\n",
       "  </tbody>\n",
       "</table>\n",
       "</div>"
      ],
      "text/plain": [
       "  Area  Room  Parking  Warehouse  Elevator         Address         Price  \\\n",
       "0   63     1     True       True      True         Shahran  1.850000e+09   \n",
       "1   60     1     True       True      True         Shahran  1.850000e+09   \n",
       "2   79     2     True       True      True          Pardis  5.500000e+08   \n",
       "3   95     2     True       True      True   Shahrake Qods  9.025000e+08   \n",
       "4  123     2     True       True      True  Shahrake Gharb  7.000000e+09   \n",
       "\n",
       "   Price(USD)  \n",
       "0    61666.67  \n",
       "1    61666.67  \n",
       "2    18333.33  \n",
       "3    30083.33  \n",
       "4   233333.33  "
      ]
     },
     "execution_count": 59,
     "metadata": {},
     "output_type": "execute_result"
    }
   ],
   "source": [
    "df.head()"
   ]
  },
  {
   "cell_type": "code",
   "execution_count": 60,
   "id": "af87449b-8bb9-4f70-85de-d2860c9b3539",
   "metadata": {},
   "outputs": [
    {
     "data": {
      "text/plain": [
       "Area           0\n",
       "Room           0\n",
       "Parking        0\n",
       "Warehouse      0\n",
       "Elevator       0\n",
       "Address       23\n",
       "Price          0\n",
       "Price(USD)     0\n",
       "dtype: int64"
      ]
     },
     "execution_count": 60,
     "metadata": {},
     "output_type": "execute_result"
    }
   ],
   "source": [
    "df.isnull().sum()"
   ]
  },
  {
   "cell_type": "code",
   "execution_count": 61,
   "id": "69711c19-6ce7-48e6-b1f8-4bd4ab4526d5",
   "metadata": {},
   "outputs": [],
   "source": [
    "df.dropna(inplace=True)"
   ]
  },
  {
   "cell_type": "code",
   "execution_count": 62,
   "id": "d390f8ee-f14e-449e-be75-9832274c1dde",
   "metadata": {},
   "outputs": [],
   "source": [
    "df.replace({False: 0, True: 1}, inplace=True)"
   ]
  },
  {
   "cell_type": "code",
   "execution_count": 63,
   "id": "ed2744a8-3652-405b-949c-8e9249d11c4d",
   "metadata": {},
   "outputs": [
    {
     "data": {
      "text/html": [
       "<div>\n",
       "<style scoped>\n",
       "    .dataframe tbody tr th:only-of-type {\n",
       "        vertical-align: middle;\n",
       "    }\n",
       "\n",
       "    .dataframe tbody tr th {\n",
       "        vertical-align: top;\n",
       "    }\n",
       "\n",
       "    .dataframe thead th {\n",
       "        text-align: right;\n",
       "    }\n",
       "</style>\n",
       "<table border=\"1\" class=\"dataframe\">\n",
       "  <thead>\n",
       "    <tr style=\"text-align: right;\">\n",
       "      <th></th>\n",
       "      <th>Area</th>\n",
       "      <th>Room</th>\n",
       "      <th>Parking</th>\n",
       "      <th>Warehouse</th>\n",
       "      <th>Elevator</th>\n",
       "      <th>Address</th>\n",
       "      <th>Price</th>\n",
       "      <th>Price(USD)</th>\n",
       "    </tr>\n",
       "  </thead>\n",
       "  <tbody>\n",
       "    <tr>\n",
       "      <th>0</th>\n",
       "      <td>63</td>\n",
       "      <td>1</td>\n",
       "      <td>1</td>\n",
       "      <td>1</td>\n",
       "      <td>1</td>\n",
       "      <td>Shahran</td>\n",
       "      <td>1.850000e+09</td>\n",
       "      <td>61666.67</td>\n",
       "    </tr>\n",
       "    <tr>\n",
       "      <th>1</th>\n",
       "      <td>60</td>\n",
       "      <td>1</td>\n",
       "      <td>1</td>\n",
       "      <td>1</td>\n",
       "      <td>1</td>\n",
       "      <td>Shahran</td>\n",
       "      <td>1.850000e+09</td>\n",
       "      <td>61666.67</td>\n",
       "    </tr>\n",
       "    <tr>\n",
       "      <th>2</th>\n",
       "      <td>79</td>\n",
       "      <td>2</td>\n",
       "      <td>1</td>\n",
       "      <td>1</td>\n",
       "      <td>1</td>\n",
       "      <td>Pardis</td>\n",
       "      <td>5.500000e+08</td>\n",
       "      <td>18333.33</td>\n",
       "    </tr>\n",
       "    <tr>\n",
       "      <th>3</th>\n",
       "      <td>95</td>\n",
       "      <td>2</td>\n",
       "      <td>1</td>\n",
       "      <td>1</td>\n",
       "      <td>1</td>\n",
       "      <td>Shahrake Qods</td>\n",
       "      <td>9.025000e+08</td>\n",
       "      <td>30083.33</td>\n",
       "    </tr>\n",
       "    <tr>\n",
       "      <th>4</th>\n",
       "      <td>123</td>\n",
       "      <td>2</td>\n",
       "      <td>1</td>\n",
       "      <td>1</td>\n",
       "      <td>1</td>\n",
       "      <td>Shahrake Gharb</td>\n",
       "      <td>7.000000e+09</td>\n",
       "      <td>233333.33</td>\n",
       "    </tr>\n",
       "    <tr>\n",
       "      <th>...</th>\n",
       "      <td>...</td>\n",
       "      <td>...</td>\n",
       "      <td>...</td>\n",
       "      <td>...</td>\n",
       "      <td>...</td>\n",
       "      <td>...</td>\n",
       "      <td>...</td>\n",
       "      <td>...</td>\n",
       "    </tr>\n",
       "    <tr>\n",
       "      <th>3473</th>\n",
       "      <td>63</td>\n",
       "      <td>1</td>\n",
       "      <td>1</td>\n",
       "      <td>1</td>\n",
       "      <td>0</td>\n",
       "      <td>Feiz Garden</td>\n",
       "      <td>1.890000e+09</td>\n",
       "      <td>63000.00</td>\n",
       "    </tr>\n",
       "    <tr>\n",
       "      <th>3474</th>\n",
       "      <td>86</td>\n",
       "      <td>2</td>\n",
       "      <td>1</td>\n",
       "      <td>1</td>\n",
       "      <td>1</td>\n",
       "      <td>Southern Janatabad</td>\n",
       "      <td>3.500000e+09</td>\n",
       "      <td>116666.67</td>\n",
       "    </tr>\n",
       "    <tr>\n",
       "      <th>3475</th>\n",
       "      <td>83</td>\n",
       "      <td>2</td>\n",
       "      <td>1</td>\n",
       "      <td>1</td>\n",
       "      <td>1</td>\n",
       "      <td>Niavaran</td>\n",
       "      <td>6.800000e+09</td>\n",
       "      <td>226666.67</td>\n",
       "    </tr>\n",
       "    <tr>\n",
       "      <th>3477</th>\n",
       "      <td>105</td>\n",
       "      <td>2</td>\n",
       "      <td>1</td>\n",
       "      <td>1</td>\n",
       "      <td>1</td>\n",
       "      <td>Dorous</td>\n",
       "      <td>5.600000e+09</td>\n",
       "      <td>186666.67</td>\n",
       "    </tr>\n",
       "    <tr>\n",
       "      <th>3478</th>\n",
       "      <td>82</td>\n",
       "      <td>2</td>\n",
       "      <td>0</td>\n",
       "      <td>1</td>\n",
       "      <td>1</td>\n",
       "      <td>Parand</td>\n",
       "      <td>3.600000e+08</td>\n",
       "      <td>12000.00</td>\n",
       "    </tr>\n",
       "  </tbody>\n",
       "</table>\n",
       "<p>3248 rows × 8 columns</p>\n",
       "</div>"
      ],
      "text/plain": [
       "      Area  Room  Parking  Warehouse  Elevator             Address  \\\n",
       "0       63     1        1          1         1             Shahran   \n",
       "1       60     1        1          1         1             Shahran   \n",
       "2       79     2        1          1         1              Pardis   \n",
       "3       95     2        1          1         1       Shahrake Qods   \n",
       "4      123     2        1          1         1      Shahrake Gharb   \n",
       "...    ...   ...      ...        ...       ...                 ...   \n",
       "3473    63     1        1          1         0         Feiz Garden   \n",
       "3474    86     2        1          1         1  Southern Janatabad   \n",
       "3475    83     2        1          1         1            Niavaran   \n",
       "3477   105     2        1          1         1              Dorous   \n",
       "3478    82     2        0          1         1              Parand   \n",
       "\n",
       "             Price  Price(USD)  \n",
       "0     1.850000e+09    61666.67  \n",
       "1     1.850000e+09    61666.67  \n",
       "2     5.500000e+08    18333.33  \n",
       "3     9.025000e+08    30083.33  \n",
       "4     7.000000e+09   233333.33  \n",
       "...            ...         ...  \n",
       "3473  1.890000e+09    63000.00  \n",
       "3474  3.500000e+09   116666.67  \n",
       "3475  6.800000e+09   226666.67  \n",
       "3477  5.600000e+09   186666.67  \n",
       "3478  3.600000e+08    12000.00  \n",
       "\n",
       "[3248 rows x 8 columns]"
      ]
     },
     "execution_count": 63,
     "metadata": {},
     "output_type": "execute_result"
    }
   ],
   "source": [
    "df['Area'] = df['Area'].apply(lambda x: re.sub(',', '', x))\n",
    "df[\"Area\"] = pd.to_numeric(df[\"Area\"] , errors='coerce')\n",
    "df"
   ]
  },
  {
   "cell_type": "code",
   "execution_count": 64,
   "id": "509398e0-ea54-4a42-9a65-c6ec9dbc3fee",
   "metadata": {},
   "outputs": [],
   "source": [
    "df['Price(USD)'] = df['Price'] / 49800\n",
    "df ['Price'] = df['Price'] . astype('int64')"
   ]
  },
  {
   "cell_type": "code",
   "execution_count": 65,
   "id": "76f38b00-81c1-44cf-8a19-8c418a277a5c",
   "metadata": {},
   "outputs": [],
   "source": [
    "df['Price(USD)'] = df['Price(USD)'].round(decimals = 2)"
   ]
  },
  {
   "cell_type": "code",
   "execution_count": 66,
   "id": "18530630-7c87-40f6-bccb-d348f29303eb",
   "metadata": {},
   "outputs": [
    {
     "data": {
      "text/html": [
       "<div>\n",
       "<style scoped>\n",
       "    .dataframe tbody tr th:only-of-type {\n",
       "        vertical-align: middle;\n",
       "    }\n",
       "\n",
       "    .dataframe tbody tr th {\n",
       "        vertical-align: top;\n",
       "    }\n",
       "\n",
       "    .dataframe thead th {\n",
       "        text-align: right;\n",
       "    }\n",
       "</style>\n",
       "<table border=\"1\" class=\"dataframe\">\n",
       "  <thead>\n",
       "    <tr style=\"text-align: right;\">\n",
       "      <th></th>\n",
       "      <th>Area</th>\n",
       "      <th>Room</th>\n",
       "      <th>Parking</th>\n",
       "      <th>Warehouse</th>\n",
       "      <th>Elevator</th>\n",
       "      <th>Address</th>\n",
       "      <th>Price</th>\n",
       "      <th>Price(USD)</th>\n",
       "    </tr>\n",
       "  </thead>\n",
       "  <tbody>\n",
       "    <tr>\n",
       "      <th>1707</th>\n",
       "      <td>420</td>\n",
       "      <td>4</td>\n",
       "      <td>1</td>\n",
       "      <td>1</td>\n",
       "      <td>1</td>\n",
       "      <td>Zaferanieh</td>\n",
       "      <td>92400000000</td>\n",
       "      <td>1855421.69</td>\n",
       "    </tr>\n",
       "    <tr>\n",
       "      <th>1810</th>\n",
       "      <td>705</td>\n",
       "      <td>5</td>\n",
       "      <td>1</td>\n",
       "      <td>1</td>\n",
       "      <td>0</td>\n",
       "      <td>Abazar</td>\n",
       "      <td>91000000000</td>\n",
       "      <td>1827309.24</td>\n",
       "    </tr>\n",
       "    <tr>\n",
       "      <th>430</th>\n",
       "      <td>400</td>\n",
       "      <td>5</td>\n",
       "      <td>1</td>\n",
       "      <td>1</td>\n",
       "      <td>0</td>\n",
       "      <td>Lavasan</td>\n",
       "      <td>85000000000</td>\n",
       "      <td>1706827.31</td>\n",
       "    </tr>\n",
       "    <tr>\n",
       "      <th>819</th>\n",
       "      <td>680</td>\n",
       "      <td>5</td>\n",
       "      <td>1</td>\n",
       "      <td>1</td>\n",
       "      <td>0</td>\n",
       "      <td>Ekhtiarieh</td>\n",
       "      <td>81600000000</td>\n",
       "      <td>1638554.22</td>\n",
       "    </tr>\n",
       "    <tr>\n",
       "      <th>1332</th>\n",
       "      <td>350</td>\n",
       "      <td>4</td>\n",
       "      <td>1</td>\n",
       "      <td>1</td>\n",
       "      <td>1</td>\n",
       "      <td>Niavaran</td>\n",
       "      <td>80500000000</td>\n",
       "      <td>1616465.86</td>\n",
       "    </tr>\n",
       "  </tbody>\n",
       "</table>\n",
       "</div>"
      ],
      "text/plain": [
       "      Area  Room  Parking  Warehouse  Elevator     Address        Price  \\\n",
       "1707   420     4        1          1         1  Zaferanieh  92400000000   \n",
       "1810   705     5        1          1         0      Abazar  91000000000   \n",
       "430    400     5        1          1         0     Lavasan  85000000000   \n",
       "819    680     5        1          1         0  Ekhtiarieh  81600000000   \n",
       "1332   350     4        1          1         1    Niavaran  80500000000   \n",
       "\n",
       "      Price(USD)  \n",
       "1707  1855421.69  \n",
       "1810  1827309.24  \n",
       "430   1706827.31  \n",
       "819   1638554.22  \n",
       "1332  1616465.86  "
      ]
     },
     "execution_count": 66,
     "metadata": {},
     "output_type": "execute_result"
    }
   ],
   "source": [
    "# df.sort_values('Price',ascending=False)[['Address']].head(5)\n",
    "df2 = df.sort_values('Price',ascending=False).head(5)\n",
    "df2"
   ]
  },
  {
   "cell_type": "code",
   "execution_count": 67,
   "id": "e856e7e2-97f8-4358-b706-8b5ed3929606",
   "metadata": {},
   "outputs": [
    {
     "data": {
      "text/plain": [
       "Text(0.5, 1.0, 'Address of 5 most expenssive houses')"
      ]
     },
     "execution_count": 67,
     "metadata": {},
     "output_type": "execute_result"
    },
    {
     "data": {
      "image/png": "[encoded data removed]",
      "text/plain": [
       "<Figure size 640x480 with 1 Axes>"
      ]
     },
     "metadata": {},
     "output_type": "display_data"
    }
   ],
   "source": [
    "ax = sns.barplot(x = 'Address',\n",
    "            y = \"Price\", data=df2\n",
    "            )\n",
    "\n",
    "\n",
    "ax.set_title('Address of 5 most expenssive houses')"
   ]
  },
  {
   "cell_type": "code",
   "execution_count": 68,
   "id": "2515cf9f-0061-4c18-9465-b680da295bc9",
   "metadata": {},
   "outputs": [
    {
     "data": {
      "text/plain": [
       "array([[ 63,   1,   1,   1,   1],\n",
       "       [ 60,   1,   1,   1,   1],\n",
       "       [ 79,   2,   1,   1,   1],\n",
       "       ...,\n",
       "       [ 83,   2,   1,   1,   1],\n",
       "       [105,   2,   1,   1,   1],\n",
       "       [ 82,   2,   0,   1,   1]], dtype=int64)"
      ]
     },
     "execution_count": 68,
     "metadata": {},
     "output_type": "execute_result"
    }
   ],
   "source": [
    "X = np.array (df [['Area' ,'Room','Parking', 'Warehouse', 'Elevator']])\n",
    "X"
   ]
  },
  {
   "cell_type": "code",
   "execution_count": 69,
   "id": "a9d7ff9d-d48e-40bc-9024-41ec59ce5e63",
   "metadata": {},
   "outputs": [],
   "source": [
    "Y = np.array(df['Price'])\n",
    "X = X.astype('int64')\n",
    "Y = Y.astype('int64')"
   ]
  },
  {
   "cell_type": "code",
   "execution_count": 70,
   "id": "ee269414-5455-443d-83c2-68d245725425",
   "metadata": {},
   "outputs": [],
   "source": [
    "X_train, X_test, y_train, y_test = train_test_split(X, Y, random_state=0, train_size = .8)\n"
   ]
  },
  {
   "cell_type": "code",
   "execution_count": 71,
   "id": "fc09f00d-b16a-4e53-8d8e-764fb22af9b7",
   "metadata": {},
   "outputs": [
    {
     "data": {
      "text/plain": [
       "array([ 2.27657675e+01,  4.42706125e+09,  4.35450503e+08, -3.36144967e+09,\n",
       "       -1.17719765e+09])"
      ]
     },
     "execution_count": 71,
     "metadata": {},
     "output_type": "execute_result"
    }
   ],
   "source": [
    "lls = LLs()\n",
    "w = lls.fit(X_train, y_train)\n",
    "w"
   ]
  },
  {
   "cell_type": "code",
   "execution_count": 72,
   "id": "21fd940f-491d-4d36-8924-55ab8d52e9fd",
   "metadata": {},
   "outputs": [
    {
     "data": {
      "text/plain": [
       "array([ 1.50106334e+09,  1.92093202e+10,  9.17799062e+09,  4.75092768e+09,\n",
       "        3.23865923e+08,  4.75092763e+09,  3.24986454e+09,  9.17799009e+09,\n",
       "        9.17798987e+09,  9.17799037e+09,  4.75092775e+09,  3.23865696e+08,\n",
       "        4.75092702e+09, -1.11584899e+08,  9.17799060e+09,  1.92093136e+10,\n",
       "        5.92812487e+09,  4.75092763e+09,  5.92812642e+09,  3.23865582e+08,\n",
       "        4.75092731e+09,  5.92812535e+09,  4.75092841e+09,  4.75092793e+09,\n",
       "        1.06561284e+09,  4.75092779e+09,  4.75092809e+09,  4.75092768e+09,\n",
       "        5.92812571e+09,  4.75092706e+09,  4.75092729e+09,  3.23865878e+08,\n",
       "        4.75092775e+09,  3.23865969e+08,  4.75092729e+09,  9.17798991e+09,\n",
       "        4.75092757e+09,  1.06561261e+09,  5.92812476e+09,  4.75092779e+09,\n",
       "        4.42706239e+09,  8.11237746e+09,  1.06561254e+09,  8.85412422e+09,\n",
       "        4.75092797e+09,  5.49267439e+09,  4.75092766e+09,  4.75092825e+09,\n",
       "        4.75092775e+09,  1.47822513e+10,  4.75092772e+09,  8.11237687e+09,\n",
       "        3.23865923e+08,  3.23865764e+08,  4.75092738e+09,  9.17799032e+09,\n",
       "        1.06561318e+09,  9.17798887e+09,  3.23865582e+08,  4.75092747e+09,\n",
       "        3.23865764e+08,  4.42706246e+09,  9.17799130e+09,  4.75092734e+09,\n",
       "        4.75092720e+09,  5.92812558e+09,  3.23865810e+08,  3.23865923e+08,\n",
       "        1.06561261e+09, -3.36144869e+09,  8.11237735e+09,  9.17799151e+09,\n",
       "        4.75092770e+09,  9.17798991e+09,  4.42706239e+09,  4.75092797e+09,\n",
       "        4.75092957e+09,  4.75092832e+09,  1.80321189e+10,  4.75092757e+09,\n",
       "        4.75092866e+09,  1.50106300e+09,  3.23866037e+08,  5.92812483e+09,\n",
       "        3.23865810e+08,  3.23865627e+08,  3.23865810e+08,  1.06561298e+09,\n",
       "        9.17799219e+09,  1.03551875e+10,  4.31547702e+09,  4.75092854e+09,\n",
       "        9.17799151e+09,  4.75092800e+09,  5.92812505e+09,  4.75092775e+09,\n",
       "        5.92812592e+09,  4.75092843e+09,  9.17799157e+09,  1.32811906e+10,\n",
       "        9.17798998e+09,  5.92812526e+09,  4.75092775e+09,  1.21039881e+10,\n",
       "        1.06561341e+09,  4.75092775e+09,  4.75092766e+09,  4.75092793e+09,\n",
       "        3.23865741e+08,  4.75092763e+09,  4.75092741e+09,  5.92812476e+09,\n",
       "        4.75092818e+09,  7.67692673e+09,  4.75092763e+09,  3.24986491e+09,\n",
       "        1.06561284e+09,  4.75092793e+09,  4.75092725e+09,  9.17799009e+09,\n",
       "        9.17798934e+09,  4.75092775e+09,  9.17798973e+09,  4.75092752e+09,\n",
       "        4.75092775e+09,  4.75092747e+09,  9.17799037e+09,  4.75092802e+09,\n",
       "        4.75092763e+09,  9.17798930e+09,  4.75092747e+09,  4.75092834e+09,\n",
       "        4.31547697e+09,  8.11237710e+09,  3.24986500e+09, -1.11585081e+08,\n",
       "        4.75092861e+09,  4.75092820e+09,  5.92812483e+09,  9.17799082e+09,\n",
       "        1.06561234e+09,  4.75092777e+09,  4.75094535e+09,  4.75092772e+09,\n",
       "        4.75092759e+09,  9.17798987e+09,  5.49267425e+09,  3.23865923e+08,\n",
       "        1.06561284e+09,  4.75092800e+09,  3.23866105e+08,  4.75092825e+09,\n",
       "        9.17799094e+09,  4.75092809e+09,  5.92812512e+09,  4.75092900e+09,\n",
       "        4.75092809e+09,  4.75092741e+09,  9.17799151e+09,  4.75092911e+09,\n",
       "        4.75092761e+09,  4.75092857e+09,  9.17799030e+09,  9.17799082e+09,\n",
       "        5.49267489e+09,  9.17799037e+09,  5.92812505e+09,  8.85412422e+09,\n",
       "        3.23865764e+08,  4.75092747e+09,  5.92812476e+09,  4.75092759e+09,\n",
       "        8.11237732e+09,  9.17799055e+09,  9.17799037e+09,  9.17799082e+09,\n",
       "        4.75092775e+09,  9.17799151e+09,  1.50106309e+09,  1.36050541e+10,\n",
       "        9.17799151e+09,  9.17799005e+09,  4.42706344e+09,  4.75092820e+09,\n",
       "        3.23865582e+08,  4.75092779e+09,  1.06561277e+09,  9.17799014e+09,\n",
       "        4.75092734e+09,  9.17799071e+09,  3.23865923e+08,  7.67692684e+09,\n",
       "        9.17799082e+09,  4.75092736e+09,  5.92812551e+09,  9.17799085e+09,\n",
       "        9.17798987e+09,  4.75092775e+09,  3.23865696e+08, -1.11584694e+08,\n",
       "        8.11237767e+09,  1.06561300e+09,  1.36050585e+10,  4.75092854e+09,\n",
       "        3.23865696e+08,  9.17798891e+09,  5.92813473e+09,  4.42706230e+09,\n",
       "        4.75092877e+09,  4.75092811e+09,  9.17799014e+09, -1.11584899e+08,\n",
       "        1.06561286e+09, -1.11585218e+08,  4.75092729e+09,  9.17799230e+09,\n",
       "        3.23865741e+08,  9.17799003e+09,  5.92812512e+09,  1.06561273e+09,\n",
       "        8.85420447e+09,  9.17799085e+09,  1.50106341e+09,  4.75092772e+09,\n",
       "       -1.11584853e+08,  3.23865673e+08,  9.17798973e+09,  9.17798996e+09,\n",
       "        9.17799139e+09,  4.75092752e+09,  1.36050550e+10,  9.17799151e+09,\n",
       "        9.17799014e+09,  1.06561250e+09,  9.17799128e+09,  4.75092775e+09,\n",
       "        4.75092809e+09,  3.23865923e+08,  4.75092784e+09,  3.68531525e+09,\n",
       "        5.92812530e+09,  4.75092791e+09,  4.75092793e+09,  4.75092752e+09,\n",
       "        4.75092761e+09,  4.75092809e+09,  4.75092788e+09,  4.75092770e+09,\n",
       "        4.31547731e+09,  3.24986463e+09,  8.11237737e+09,  9.17799037e+09,\n",
       "        9.17798957e+09,  1.06561273e+09,  4.75092782e+09,  4.75092825e+09,\n",
       "        3.23865718e+08,  4.75092797e+09,  9.17799237e+09,  4.75092820e+09,\n",
       "        8.11237707e+09,  1.50106296e+09,  9.17799014e+09,  4.75092763e+09,\n",
       "       -1.11585081e+08,  5.92812501e+09,  4.75092757e+09,  8.85412474e+09,\n",
       "        9.17798957e+09,  3.23865855e+08,  9.17798980e+09,  4.75092706e+09,\n",
       "        1.21039881e+10,  4.75092791e+09,  4.75092797e+09,  4.75092797e+09,\n",
       "        4.31547770e+09,  4.75092854e+09,  9.17799105e+09,  5.92812524e+09,\n",
       "        4.75092843e+09,  1.92093232e+10,  3.23865787e+08,  4.75092823e+09,\n",
       "        4.31547838e+09,  4.75092911e+09,  9.17799196e+09,  4.75092797e+09,\n",
       "        1.06561266e+09,  9.17799014e+09,  9.17799028e+09,  4.75092797e+09,\n",
       "        4.75092877e+09,  4.75092832e+09,  4.75092818e+09,  4.75092725e+09,\n",
       "        4.75092791e+09,  7.67692664e+09, -1.11584830e+08,  4.75092786e+09,\n",
       "        3.23866265e+08,  9.17799173e+09,  1.06561273e+09,  9.17799337e+09,\n",
       "        4.86251271e+09,  1.06561268e+09,  4.75092741e+09,  4.75092793e+09,\n",
       "        1.50106332e+09,  1.06561298e+09,  3.23865582e+08,  4.75092734e+09,\n",
       "        4.75092809e+09,  9.17799128e+09,  5.49267428e+09,  3.23865810e+08,\n",
       "        4.75092800e+09,  3.23866265e+08,  3.23865718e+08,  3.23865650e+08,\n",
       "        4.75092832e+09,  4.75092777e+09,  4.75092797e+09,  4.75092809e+09,\n",
       "        5.92812496e+09,  4.75092766e+09,  4.75092877e+09,  4.75092791e+09,\n",
       "        3.23865559e+08,  4.75092866e+09,  4.75092820e+09,  4.75092741e+09,\n",
       "        9.17798964e+09,  4.75092832e+09,  4.75092750e+09,  4.75092786e+09,\n",
       "        3.23865536e+08,  4.75092836e+09,  4.75092727e+09,  9.17799037e+09,\n",
       "        4.75092845e+09,  4.75092777e+09,  4.75092854e+09,  4.75092802e+09,\n",
       "        5.92812489e+09,  4.75092761e+09,  5.92812483e+09, -1.11584853e+08,\n",
       "        4.75092775e+09,  9.17799094e+09,  5.49267430e+09,  5.92812512e+09,\n",
       "        9.17799082e+09,  4.75092775e+09,  5.92812574e+09,  9.17799025e+09,\n",
       "        4.75092793e+09,  4.75092820e+09,  5.49267462e+09,  1.06561295e+09,\n",
       "        1.06561254e+09,  4.75092800e+09,  1.06561275e+09,  4.75092768e+09,\n",
       "        4.75092807e+09,  4.75092729e+09,  8.85412429e+09,  1.36050540e+10,\n",
       "        4.75092731e+09,  9.17799299e+09,  4.75092811e+09,  4.75092809e+09,\n",
       "        3.68531555e+09,  4.86251290e+09,  3.23865696e+08,  4.75092889e+09,\n",
       "        4.75092829e+09,  4.42706262e+09,  4.75092843e+09,  4.31547683e+09,\n",
       "        1.50106346e+09,  3.23865923e+08,  9.17798969e+09,  4.75092763e+09,\n",
       "        1.32811857e+10,  3.23865696e+08,  4.75092752e+09,  5.49267428e+09,\n",
       "        5.92812476e+09,  4.86252086e+09,  9.17799053e+09,  9.17799016e+09,\n",
       "        4.75092797e+09,  4.75092820e+09,  4.75092854e+09,  9.17799003e+09,\n",
       "        4.75092795e+09,  9.17799278e+09,  5.92812496e+09,  9.17798973e+09,\n",
       "        5.49267498e+09,  3.68531502e+09,  4.75092750e+09,  9.17799173e+09,\n",
       "        9.17798962e+09,  9.17799037e+09,  4.75092757e+09,  4.75092766e+09,\n",
       "        9.17799048e+09,  3.23865764e+08,  9.17799014e+09,  9.17799035e+09,\n",
       "        4.75092809e+09,  8.85412444e+09,  4.75092850e+09,  3.23865810e+08,\n",
       "        4.75092791e+09,  4.75092743e+09,  1.36050528e+10,  4.75092736e+09,\n",
       "        1.36050578e+10,  9.17798957e+09,  8.74253841e+09,  4.75092829e+09,\n",
       "        4.75092768e+09,  1.36050555e+10,  4.75092832e+09,  1.50106289e+09,\n",
       "        4.75092725e+09,  9.17799025e+09,  4.75092797e+09,  9.17799003e+09,\n",
       "        1.06561259e+09,  9.17799014e+09,  4.31547683e+09,  1.03551880e+10,\n",
       "        4.75092957e+09,  4.75092763e+09,  1.50106312e+09,  4.75092786e+09,\n",
       "        9.17798969e+09,  9.17799060e+09,  9.17799048e+09,  9.17799128e+09,\n",
       "        4.75092716e+09,  4.75092738e+09,  4.75092759e+09,  7.67692655e+09,\n",
       "        9.17799153e+09,  3.23866037e+08,  3.23865764e+08,  9.17799037e+09,\n",
       "        4.75092802e+09,  4.75092757e+09,  1.50106289e+09,  4.75092809e+09,\n",
       "        9.17799219e+09,  4.31547690e+09,  4.75092770e+09,  3.23865673e+08,\n",
       "        9.17799151e+09,  4.75092729e+09,  4.75092763e+09,  9.17798946e+09,\n",
       "        1.36050523e+10,  5.49267423e+09,  4.75092752e+09,  9.17799071e+09,\n",
       "        9.17799037e+09,  4.75092797e+09,  5.92812539e+09,  9.17798998e+09,\n",
       "        1.06561295e+09,  4.75092761e+09,  4.75092809e+09,  4.75092757e+09,\n",
       "        9.17799003e+09,  4.75092722e+09,  8.85412372e+09,  9.17799082e+09,\n",
       "        1.06561273e+09,  1.50106346e+09,  5.92812503e+09,  4.75092738e+09,\n",
       "        3.24986475e+09,  9.17799025e+09,  1.36050528e+10,  1.06561273e+09,\n",
       "        1.06561302e+09,  5.92812505e+09,  4.31547770e+09,  7.67692641e+09,\n",
       "        5.92812494e+09,  4.75092911e+09,  3.23865810e+08,  1.03552005e+10,\n",
       "        9.17799062e+09,  4.75092809e+09,  3.23865810e+08,  3.23865923e+08,\n",
       "        4.75092747e+09,  3.23865878e+08,  9.17799223e+09,  5.92812471e+09,\n",
       "        4.75092711e+09,  4.42706276e+09,  4.75092809e+09,  4.75092832e+09,\n",
       "        3.23866128e+08,  4.75092786e+09,  4.75092797e+09,  4.75092809e+09,\n",
       "        9.17798991e+09,  4.75092718e+09,  4.75092711e+09,  4.75092738e+09,\n",
       "        4.75092786e+09,  8.74253930e+09,  9.17798969e+09,  1.06561286e+09,\n",
       "        4.75092843e+09,  5.92812537e+09,  7.67692655e+09,  4.75092797e+09,\n",
       "        1.36050562e+10,  4.75092775e+09,  8.85412479e+09,  4.75092736e+09,\n",
       "        4.75092816e+09,  4.31547747e+09,  3.23865582e+08,  3.23865855e+08,\n",
       "        9.17799064e+09,  1.25394396e+10,  4.75092868e+09,  3.24986493e+09,\n",
       "        4.75092761e+09,  1.03551874e+10,  8.01056163e+10,  9.17799098e+09,\n",
       "        1.21039881e+10,  3.23865696e+08,  4.75092752e+09,  3.24986506e+09,\n",
       "        4.75092720e+09,  3.23866060e+08,  3.24986472e+09,  9.17799155e+09,\n",
       "       -1.11585013e+08,  9.17798984e+09,  4.75092734e+09,  4.75092797e+09,\n",
       "        4.75092797e+09,  3.23865741e+08,  4.75092825e+09,  4.31547672e+09,\n",
       "        4.75092797e+09,  4.75092809e+09,  9.17799208e+09,  1.06561250e+09,\n",
       "        4.75092775e+09,  4.75092747e+09,  4.75092838e+09,  9.17798980e+09,\n",
       "        5.49267434e+09,  4.75092809e+09,  4.75092820e+09,  9.17798987e+09,\n",
       "        4.75092757e+09, -1.11584398e+08,  4.75092761e+09,  3.24986493e+09,\n",
       "        5.92812494e+09,  4.75092747e+09,  9.17799003e+09,  4.75092754e+09,\n",
       "        4.75092768e+09,  4.75092820e+09,  1.47822489e+10,  3.23865764e+08,\n",
       "        3.23865764e+08,  8.85412422e+09,  4.75092797e+09,  3.23865696e+08,\n",
       "        3.23865741e+08,  4.75092843e+09,  9.91973537e+09,  9.17799025e+09,\n",
       "        5.49267425e+09,  9.17798980e+09,  4.75092741e+09,  4.75092718e+09,\n",
       "        4.31547679e+09,  7.67692664e+09,  4.75092763e+09,  4.75092777e+09,\n",
       "        4.75092786e+09,  4.75092788e+09,  1.36050523e+10,  4.75092900e+09,\n",
       "        4.75092838e+09,  1.06561279e+09,  5.92812576e+09,  5.92812498e+09,\n",
       "        4.75092775e+09,  9.17799139e+09,  9.91973774e+09,  4.75092752e+09,\n",
       "        4.75092832e+09,  1.50106309e+09,  1.92093139e+10,  5.92812512e+09,\n",
       "        9.28957552e+09,  4.75092729e+09,  1.06561259e+09,  1.92093167e+10,\n",
       "        1.50106348e+09,  3.23865992e+08,  9.17799037e+09,  4.75092741e+09,\n",
       "        1.50106300e+09,  4.75092706e+09,  1.06561259e+09,  4.75092770e+09,\n",
       "        4.75092766e+09,  9.17799023e+09,  2.21353136e+10,  9.17798934e+09,\n",
       "        1.36050526e+10,  4.75092797e+09,  1.92093140e+10,  9.17799196e+09,\n",
       "        9.28958360e+09,  4.75092757e+09,  9.17799196e+09,  9.17799025e+09,\n",
       "        4.75092725e+09,  4.75092770e+09,  4.75092770e+09,  9.17799066e+09,\n",
       "        9.17799037e+09,  9.17799032e+09,  5.92812608e+09,  3.23865764e+08,\n",
       "        5.92812574e+09,  5.92812562e+09,  4.75092802e+09,  4.75092768e+09,\n",
       "        4.75092754e+09,  9.17799253e+09])"
      ]
     },
     "execution_count": 72,
     "metadata": {},
     "output_type": "execute_result"
    }
   ],
   "source": [
    "y_pred = lls.predict(X_test)\n",
    "y_pred"
   ]
  },
  {
   "cell_type": "code",
   "execution_count": 73,
   "id": "18223ab2-d771-4406-bdda-b7a94ff55f8b",
   "metadata": {},
   "outputs": [],
   "source": [
    "def Mean_Absolute_Error(y_test, y_pred):\n",
    "    MAE = np.absolute(np.subtract(y_test, y_pred)).mean()\n",
    "    return MAE"
   ]
  },
  {
   "cell_type": "code",
   "execution_count": 74,
   "id": "c3e50f64-d9de-4083-8816-fa601c8be3b4",
   "metadata": {},
   "outputs": [],
   "source": [
    "def Mean_Square_Error(y_test, y_pred):\n",
    "    MSE = np.square(np.subtract(y_test, y_pred)).mean()\n",
    "    return MSE"
   ]
  },
  {
   "cell_type": "code",
   "execution_count": 75,
   "id": "717fbfd6-727b-4502-b5bc-2c55ae7bd874",
   "metadata": {},
   "outputs": [],
   "source": [
    "def ROOT_MSE(y_test, y_pred):\n",
    "    RMSE = np.sqrt((np.subtract(y_test, y_pred)**2).mean())\n",
    "    return RMSE"
   ]
  },
  {
   "cell_type": "code",
   "execution_count": 76,
   "id": "1ab8b0a6-9254-473d-a52c-f2685e8116ad",
   "metadata": {},
   "outputs": [
    {
     "name": "stdout",
     "output_type": "stream",
     "text": [
      "Mean Absolute Error with our model is: 3942105949.5493283\n",
      "Mean Square Error with our model is: 6.400653553112821e+19\n",
      "Root Mean Square Error with our model is: 8000408460.268026\n"
     ]
    }
   ],
   "source": [
    "MAE_our_model = Mean_Absolute_Error(y_test, y_pred)\n",
    "MSE_our_model = Mean_Square_Error(y_test, y_pred)\n",
    "RMSE_our_model = ROOT_MSE(y_test, y_pred)\n",
    "print (\"Mean Absolute Error with our model is:\" , MAE_our_model)\n",
    "print (\"Mean Square Error with our model is:\" , MSE_our_model)\n",
    "print (\"Root Mean Square Error with our model is:\" , RMSE_our_model)"
   ]
  },
  {
   "cell_type": "code",
   "execution_count": 77,
   "id": "6d3b4e29-d403-40b9-a3c9-f6719e0f2a39",
   "metadata": {},
   "outputs": [],
   "source": [
    "from sklearn.linear_model import LinearRegression\n"
   ]
  },
  {
   "cell_type": "code",
   "execution_count": 78,
   "id": "fbbdd58d-195f-4913-894a-7f0b678d128c",
   "metadata": {},
   "outputs": [],
   "source": [
    "regr = LinearRegression()\n",
    "\n",
    "regr.fit(X_train, y_train)\n",
    "\n",
    "y_pred = regr.predict(X_test)"
   ]
  },
  {
   "cell_type": "code",
   "execution_count": 79,
   "id": "aec49cd7-9443-4afd-a6e5-93b9f825d404",
   "metadata": {},
   "outputs": [],
   "source": [
    "MAE_Linear_Regression = Mean_Absolute_Error(y_test, y_pred)\n",
    "MSE_Linear_Regression = Mean_Square_Error(y_test, y_pred)\n",
    "RMSE_Linear_Regression = ROOT_MSE(y_test, y_pred)"
   ]
  },
  {
   "cell_type": "code",
   "execution_count": 80,
   "id": "a82f9040-16e1-461a-8bf2-65859340298a",
   "metadata": {},
   "outputs": [
    {
     "name": "stdout",
     "output_type": "stream",
     "text": [
      "Mean Absolute Error with Sklearn Linear Regression is: 3913481100.397159\n",
      "Mean Square Error with Sklearn Linear Regression is: 4.98186272726287e+19\n",
      "Root Mean Square Error with Sklearn Linear Regression is: 7058231171.662537\n"
     ]
    }
   ],
   "source": [
    "print (\"Mean Absolute Error with Sklearn Linear Regression is:\" , MAE_Linear_Regression)\n",
    "print (\"Mean Square Error with Sklearn Linear Regression is:\" , MSE_Linear_Regression)\n",
    "print (\"Root Mean Square Error with Sklearn Linear Regression is:\" , RMSE_Linear_Regression)"
   ]
  },
  {
   "cell_type": "code",
   "execution_count": 81,
   "id": "324444c2-f861-4373-a0fe-4b297ffe680a",
   "metadata": {},
   "outputs": [],
   "source": [
    "from sklearn.linear_model import RidgeCV "
   ]
  },
  {
   "cell_type": "code",
   "execution_count": 82,
   "id": "e5761a27-e20a-45a9-8f2a-22a4cb8f2752",
   "metadata": {},
   "outputs": [],
   "source": [
    "model = RidgeCV()\n",
    "model.fit(X_train,y_train)\n",
    "y_pred = model.predict(X_test)"
   ]
  },
  {
   "cell_type": "code",
   "execution_count": 86,
   "id": "fd8677b4-26d5-4b4e-8234-29c3fe83ddc4",
   "metadata": {},
   "outputs": [],
   "source": [
    "MAE_Ridge_CV = Mean_Absolute_Error(y_test, y_pred)\n",
    "MSE_Ridge_CV = Mean_Square_Error(y_test, y_pred)\n",
    "RMSE_Ridge_CV = ROOT_MSE(y_test, y_pred)"
   ]
  },
  {
   "cell_type": "code",
   "execution_count": 87,
   "id": "ac8d291f-3e7c-48f4-93a0-541c120fd234",
   "metadata": {},
   "outputs": [
    {
     "name": "stdout",
     "output_type": "stream",
     "text": [
      "Mean Absolute Error with Sklearn Ridge CV is: 3913481100.397159\n",
      "Mean Square Error with Sklearn Ridge CV is: 4.98186272726287e+19\n",
      "Root Mean Square Error with Sklearn Ridge CV is: 7058231171.662537\n"
     ]
    }
   ],
   "source": [
    "print (\"Mean Absolute Error with Sklearn Ridge CV is:\" , MAE_Ridge_CV)\n",
    "print (\"Mean Square Error with Sklearn Ridge CV is:\" , MSE_Ridge_CV)\n",
    "print (\"Root Mean Square Error with Sklearn Ridge CV is:\" , RMSE_Ridge_CV)"
   ]
  },
  {
   "cell_type": "code",
   "execution_count": 111,
   "id": "a895c858-61b7-499d-b368-bd70955b61c2",
   "metadata": {},
   "outputs": [
    {
     "data": {
      "text/plain": [
       "<BarContainer object of 3 artists>"
      ]
     },
     "execution_count": 111,
     "metadata": {},
     "output_type": "execute_result"
    },
    {
     "data": {
      "image/png": "[encoded data removed]",
      "text/plain": [
       "<Figure size 640x480 with 1 Axes>"
      ]
     },
     "metadata": {},
     "output_type": "display_data"
    }
   ],
   "source": [
    "\n",
    "x = [ 'MAE_our_model', 'MAE_Linear_Regression', 'MAE_Ridge CV']\n",
    "y = [ 3942105949.5493283 , 3913481100.397159, 3913481100.397159 ]\n",
    "plt.xlabel('Mean_Absolute_Error')\n",
    "plt.ylabel('Values')\n",
    "plt.bar(x,y)"
   ]
  },
  {
   "cell_type": "code",
   "execution_count": 112,
   "id": "5330b349-8e91-4d21-ac4f-582fe9df3624",
   "metadata": {},
   "outputs": [
    {
     "data": {
      "text/plain": [
       "<BarContainer object of 3 artists>"
      ]
     },
     "execution_count": 112,
     "metadata": {},
     "output_type": "execute_result"
    },
    {
     "data": {
      "image/png": "[encoded data removed]",
      "text/plain": [
       "<Figure size 640x480 with 1 Axes>"
      ]
     },
     "metadata": {},
     "output_type": "display_data"
    }
   ],
   "source": [
    "x = [ 'MSE_our_model', 'MSE_Linear_Regression', 'MSE_Ridge CV']\n",
    "y = [ 6.400653553112821e+19 , 4.98186272726287e+19, 4.98186272726287e+19 ]\n",
    "plt.xlabel('Mean_Square_Error')\n",
    "plt.ylabel('Values')\n",
    "plt.bar(x,y)"
   ]
  },
  {
   "cell_type": "code",
   "execution_count": 113,
   "id": "2d32f7f4-ac4d-4db3-98cb-61d9b7f5a92f",
   "metadata": {},
   "outputs": [
    {
     "data": {
      "text/plain": [
       "<BarContainer object of 3 artists>"
      ]
     },
     "execution_count": 113,
     "metadata": {},
     "output_type": "execute_result"
    },
    {
     "data": {
      "image/png": "[encoded data removed]",
      "text/plain": [
       "<Figure size 640x480 with 1 Axes>"
      ]
     },
     "metadata": {},
     "output_type": "display_data"
    }
   ],
   "source": [
    "x = [ 'RSME_our_model', 'RMSE_Linear_Regression', 'RMSE_Ridge CV']\n",
    "y = [  8000408460.268026 ,  7058231171.662537, 7058231171.662537 ]\n",
    "plt.xlabel('Root_Mean_Square_Error')\n",
    "plt.ylabel('Values')\n",
    "plt.bar(x,y)"
   ]
  },
  {
   "cell_type": "code",
   "execution_count": null,
   "id": "e46f05ff-8334-41a7-8d4a-a52c97828ac6",
   "metadata": {},
   "outputs": [],
   "source": []
  }
 ],
 "metadata": {
  "kernelspec": {
   "display_name": "Python 3 (ipykernel)",
   "language": "python",
   "name": "python3"
  },
  "language_info": {
   "codemirror_mode": {
    "name": "ipython",
    "version": 3
   },
   "file_extension": ".py",
   "mimetype": "text/x-python",
   "name": "python",
   "nbconvert_exporter": "python",
   "pygments_lexer": "ipython3",
   "version": "3.11.3"
  }
 },
 "nbformat": 4,
 "nbformat_minor": 5
}
