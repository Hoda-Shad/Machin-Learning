{
 "cells": [
  {
   "cell_type": "code",
   "execution_count": 1,
   "id": "a3f9a12c-4b5c-4714-b4d5-7c254a587586",
   "metadata": {},
   "outputs": [],
   "source": [
    "import numpy as np \n",
    "import pandas as pd \n",
    "import matplotlib.pyplot as plt\n",
    "from sklearn.model_selection import train_test_split\n",
    "from knn import KNN "
   ]
  },
  {
   "cell_type": "code",
   "execution_count": 2,
   "id": "474ca7e0-bbd1-44aa-8174-8bf87b8d66fb",
   "metadata": {},
   "outputs": [],
   "source": [
    "N = 100 "
   ]
  },
  {
   "cell_type": "code",
   "execution_count": 3,
   "id": "bc91ce25-7a6e-40f1-8a8c-7302a0039448",
   "metadata": {},
   "outputs": [],
   "source": [
    "# def generate(N):\n",
    "data1 = {'width': np.random.normal(4,1,N), 'height': np.random.normal(8,1,N)}\n",
    "data2 = {'width': np.random.normal(5,1,N), 'height': np.random.normal(5,1,N)}\n",
    "data3 = {'width': np.random.normal(15,5,N), 'height': np.random.normal(15,5,N)}\n",
    "df1= pd.DataFrame(data1)\n",
    "df2 = pd.DataFrame(data2)\n",
    "df3 = pd.DataFrame(data3)\n",
    "data = pd.concat([df1,df2,df3]) \n",
    "Y1 = np.zeros((100,), dtype=int)\n",
    "Y2 = np.ones((100,), dtype=int)\n",
    "Y3 =2 * np.ones((100,), dtype=int)\n",
    "Y = np.concatenate([Y1,Y2,Y3])"
   ]
  },
  {
   "cell_type": "code",
   "execution_count": 4,
   "id": "902001e7-432f-4efc-abb2-0df184dcd5ef",
   "metadata": {},
   "outputs": [],
   "source": [
    "X_train, X_test, y_train, y_test = train_test_split(data, Y, random_state=0, train_size = .80)"
   ]
  },
  {
   "cell_type": "code",
   "execution_count": 5,
   "id": "46134c58-fdf1-48d5-acc9-66fea03fe80c",
   "metadata": {},
   "outputs": [],
   "source": [
    "# from sklearn.neighbors import KNeighborsClassifier\n",
    "# neigh = KNeighborsClassifier(n_neighbors=3)\n",
    "# neigh.fit(X_train, y_train)"
   ]
  },
  {
   "cell_type": "code",
   "execution_count": 15,
   "id": "8eecc084-72dc-4cfe-af4d-f59611e5994c",
   "metadata": {},
   "outputs": [
    {
     "data": {
      "text/plain": [
       "1"
      ]
     },
     "execution_count": 15,
     "metadata": {},
     "output_type": "execute_result"
    }
   ],
   "source": [
    "k=3\n",
    "neigh = KNN(k)\n",
    "X = []\n",
    "x1 = np.array([5.2,4])\n",
    "X.append(x1)\n",
    "len(X)"
   ]
  },
  {
   "cell_type": "code",
   "execution_count": 16,
   "id": "27eda686-5530-4997-ac1b-459ce21cdcd4",
   "metadata": {},
   "outputs": [
    {
     "ename": "NameError",
     "evalue": "name 'euclidean_distance' is not defined",
     "output_type": "error",
     "traceback": [
      "\u001b[1;31m---------------------------------------------------------------------------\u001b[0m",
      "\u001b[1;31mNameError\u001b[0m                                 Traceback (most recent call last)",
      "Cell \u001b[1;32mIn[16], line 1\u001b[0m\n\u001b[1;32m----> 1\u001b[0m output \u001b[38;5;241m=\u001b[39m \u001b[43mneigh\u001b[49m\u001b[38;5;241;43m.\u001b[39;49m\u001b[43mpredict\u001b[49m\u001b[43m(\u001b[49m\u001b[43mX\u001b[49m\u001b[43m)\u001b[49m\n\u001b[0;32m      2\u001b[0m \u001b[38;5;28;01mif\u001b[39;00m output \u001b[38;5;241m==\u001b[39m \u001b[38;5;241m0\u001b[39m : \n\u001b[0;32m      3\u001b[0m     \u001b[38;5;28mprint\u001b[39m (\u001b[38;5;124m'\u001b[39m\u001b[38;5;124m🍌\u001b[39m\u001b[38;5;124m'\u001b[39m )\n",
      "File \u001b[1;32mD:\\PycharmProjects\\pythonProject\\ML\\Machin-Learning\\Assignment5\\knn.py:12\u001b[0m, in \u001b[0;36mKNN.predict\u001b[1;34m(self, X)\u001b[0m\n\u001b[0;32m     10\u001b[0m \u001b[38;5;28;01mdef\u001b[39;00m \u001b[38;5;21mpredict\u001b[39m(\u001b[38;5;28mself\u001b[39m,X): \n\u001b[0;32m     11\u001b[0m     \u001b[38;5;28;01mfor\u001b[39;00m i \u001b[38;5;129;01min\u001b[39;00m X :\n\u001b[1;32m---> 12\u001b[0m         distances \u001b[38;5;241m=\u001b[39m \u001b[43meuclidean_distance\u001b[49m(i, X_train)\n\u001b[0;32m     13\u001b[0m         nearest_neighbors \u001b[38;5;241m=\u001b[39m np\u001b[38;5;241m.\u001b[39margsort(distances)[\u001b[38;5;241m0\u001b[39m:\u001b[38;5;28mself\u001b[39m\u001b[38;5;241m.\u001b[39mk]\n\u001b[0;32m     14\u001b[0m     \u001b[38;5;28;01mreturn\u001b[39;00m np\u001b[38;5;241m.\u001b[39margmax(np\u001b[38;5;241m.\u001b[39mbincount(\u001b[38;5;28mself\u001b[39m\u001b[38;5;241m.\u001b[39mY_train(nearest_neighbors)))\n",
      "\u001b[1;31mNameError\u001b[0m: name 'euclidean_distance' is not defined"
     ]
    }
   ],
   "source": [
    "output = neigh.predict(X)\n",
    "if output == 0 : \n",
    "    print ('🍌' )\n",
    "elif output == 1 : \n",
    "     print ('🍅' )\n",
    "else : \n",
    "    print( '🍉' ) \n"
   ]
  },
  {
   "cell_type": "code",
   "execution_count": 17,
   "id": "0495b648-369f-4b5c-86dc-6b64dc84ebbd",
   "metadata": {},
   "outputs": [
    {
     "ename": "AttributeError",
     "evalue": "'KNN' object has no attribute 'score'",
     "output_type": "error",
     "traceback": [
      "\u001b[1;31m---------------------------------------------------------------------------\u001b[0m",
      "\u001b[1;31mAttributeError\u001b[0m                            Traceback (most recent call last)",
      "Cell \u001b[1;32mIn[17], line 1\u001b[0m\n\u001b[1;32m----> 1\u001b[0m acc \u001b[38;5;241m=\u001b[39m \u001b[43mneigh\u001b[49m\u001b[38;5;241;43m.\u001b[39;49m\u001b[43mscore\u001b[49m (X_test, y_test) \n",
      "\u001b[1;31mAttributeError\u001b[0m: 'KNN' object has no attribute 'score'"
     ]
    }
   ],
   "source": [
    "acc = neigh.score (X_test, y_test) "
   ]
  },
  {
   "cell_type": "code",
   "execution_count": 18,
   "id": "1094d075-4833-4bad-88cb-3229ec6f9e07",
   "metadata": {},
   "outputs": [
    {
     "ename": "NameError",
     "evalue": "name 'acc' is not defined",
     "output_type": "error",
     "traceback": [
      "\u001b[1;31m---------------------------------------------------------------------------\u001b[0m",
      "\u001b[1;31mNameError\u001b[0m                                 Traceback (most recent call last)",
      "Cell \u001b[1;32mIn[18], line 1\u001b[0m\n\u001b[1;32m----> 1\u001b[0m \u001b[38;5;28mprint\u001b[39m(\u001b[43macc\u001b[49m)\n",
      "\u001b[1;31mNameError\u001b[0m: name 'acc' is not defined"
     ]
    }
   ],
   "source": [
    "print(acc)"
   ]
  },
  {
   "cell_type": "code",
   "execution_count": null,
   "id": "59f8a6ee-8b9c-407f-9779-40eda0f58add",
   "metadata": {},
   "outputs": [],
   "source": []
  },
  {
   "cell_type": "code",
   "execution_count": null,
   "id": "f23fd847-f4ec-45e4-81a2-04a7506aa14c",
   "metadata": {},
   "outputs": [],
   "source": []
  },
  {
   "cell_type": "code",
   "execution_count": null,
   "id": "857e395c-f7be-4251-88d7-d15e1e17a024",
   "metadata": {},
   "outputs": [],
   "source": []
  }
 ],
 "metadata": {
  "kernelspec": {
   "display_name": "Python 3 (ipykernel)",
   "language": "python",
   "name": "python3"
  },
  "language_info": {
   "codemirror_mode": {
    "name": "ipython",
    "version": 3
   },
   "file_extension": ".py",
   "mimetype": "text/x-python",
   "name": "python",
   "nbconvert_exporter": "python",
   "pygments_lexer": "ipython3",
   "version": "3.11.3"
  }
 },
 "nbformat": 4,
 "nbformat_minor": 5
}
