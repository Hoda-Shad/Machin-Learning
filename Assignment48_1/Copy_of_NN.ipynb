{
  "nbformat": 4,
  "nbformat_minor": 0,
  "metadata": {
    "colab": {
      "provenance": []
    },
    "kernelspec": {
      "name": "python3",
      "display_name": "Python 3"
    },
    "language_info": {
      "name": "python"
    }
  },
  "cells": [
    {
      "cell_type": "code",
      "execution_count": 2,
      "metadata": {
        "id": "l6keTmgKZVy6"
      },
      "outputs": [],
      "source": [
        "import numpy as np"
      ]
    },
    {
      "cell_type": "code",
      "source": [
        "import matplotlib.pyplot as plt\n",
        "import cv2\n",
        "from tqdm import tqdm"
      ],
      "metadata": {
        "id": "IJD6SvFIZctv"
      },
      "execution_count": 3,
      "outputs": []
    },
    {
      "cell_type": "code",
      "source": [
        "from sklearn.datasets import load_digits\n",
        "from sklearn.model_selection import train_test_split\n",
        "from sklearn.metrics import  mean_squared_error\n",
        "from sklearn.metrics import accuracy_score"
      ],
      "metadata": {
        "id": "xJZg7TgFZfvr"
      },
      "execution_count": 4,
      "outputs": []
    },
    {
      "cell_type": "code",
      "source": [
        "def root_mean_square_error(y,y_pred):\n",
        "  return np.sqrt(np.mean((y - y_pred)**2))"
      ],
      "metadata": {
        "id": "dxvWZj-JWJJV"
      },
      "execution_count": 5,
      "outputs": []
    },
    {
      "cell_type": "code",
      "source": [
        "def sigmoid (x):\n",
        "  return 1 /( 1 + np.exp(-x))\n",
        "\n",
        "def softmax(x):\n",
        "  return np.exp(x) / np.sum(np.exp(x))"
      ],
      "metadata": {
        "id": "Qhy5El9SsdSe"
      },
      "execution_count": 6,
      "outputs": []
    },
    {
      "cell_type": "code",
      "source": [
        "digits = load_digits()"
      ],
      "metadata": {
        "id": "UaZF_JuFa9Qw"
      },
      "execution_count": 7,
      "outputs": []
    },
    {
      "cell_type": "code",
      "source": [
        "plt.gray()"
      ],
      "metadata": {
        "colab": {
          "base_uri": "https://localhost:8080/",
          "height": 34
        },
        "id": "SXGhFkv9bTT0",
        "outputId": "794cf324-8cb7-4eda-ce76-04bf32099281"
      },
      "execution_count": 8,
      "outputs": [
        {
          "output_type": "display_data",
          "data": {
            "text/plain": [
              "<Figure size 640x480 with 0 Axes>"
            ]
          },
          "metadata": {}
        }
      ]
    },
    {
      "cell_type": "code",
      "source": [
        "plt.matshow(digits.images[0])"
      ],
      "metadata": {
        "colab": {
          "base_uri": "https://localhost:8080/",
          "height": 454
        },
        "id": "MhqN7yzufHau",
        "outputId": "53b9b8be-468e-494e-88e0-c2da1f7ecdff"
      },
      "execution_count": 9,
      "outputs": [
        {
          "output_type": "execute_result",
          "data": {
            "text/plain": [
              "<matplotlib.image.AxesImage at 0x7e963c08d180>"
            ]
          },
          "metadata": {},
          "execution_count": 9
        },
        {
          "output_type": "display_data",
          "data": {
            "text/plain": [
              "<Figure size 480x480 with 1 Axes>"
            ],
            "image/png": "[encoded data removed]"
          },
          "metadata": {}
        }
      ]
    },
    {
      "cell_type": "code",
      "source": [
        "X = digits.data\n",
        "\n",
        "X"
      ],
      "metadata": {
        "colab": {
          "base_uri": "https://localhost:8080/"
        },
        "id": "I0H4w2pwfKPK",
        "outputId": "dc8e87ac-c0a6-4964-f1ec-89d3ccdc3471"
      },
      "execution_count": 10,
      "outputs": [
        {
          "output_type": "execute_result",
          "data": {
            "text/plain": [
              "array([[ 0.,  0.,  5., ...,  0.,  0.,  0.],\n",
              "       [ 0.,  0.,  0., ..., 10.,  0.,  0.],\n",
              "       [ 0.,  0.,  0., ..., 16.,  9.,  0.],\n",
              "       ...,\n",
              "       [ 0.,  0.,  1., ...,  6.,  0.,  0.],\n",
              "       [ 0.,  0.,  2., ..., 12.,  0.,  0.],\n",
              "       [ 0.,  0., 10., ..., 12.,  1.,  0.]])"
            ]
          },
          "metadata": {},
          "execution_count": 10
        }
      ]
    },
    {
      "cell_type": "code",
      "source": [
        "Y = digits.target\n",
        "print(Y)\n",
        "# classes = np.unique(Y)\n",
        "# print(classes)\n",
        "# Y = np.eye(Y.max()+1)[Y]\n",
        "# print(Y)"
      ],
      "metadata": {
        "colab": {
          "base_uri": "https://localhost:8080/"
        },
        "id": "oMIg_VtSfbmv",
        "outputId": "072c3308-0148-47f4-be6b-1c64e357e8c4"
      },
      "execution_count": 11,
      "outputs": [
        {
          "output_type": "stream",
          "name": "stdout",
          "text": [
            "[0 1 2 ... 8 9 8]\n"
          ]
        }
      ]
    },
    {
      "cell_type": "code",
      "source": [
        "X_train, X_test, Y_train, Y_test = train_test_split(X,Y , test_size = 0.2)\n",
        "X_train.shape , X_test.shape, Y_train.shape, Y_test.shape\n"
      ],
      "metadata": {
        "id": "TBeEJdccfi0o",
        "colab": {
          "base_uri": "https://localhost:8080/"
        },
        "outputId": "abe4ff0d-38b3-462e-8c3d-c51e41a0382e"
      },
      "execution_count": 12,
      "outputs": [
        {
          "output_type": "execute_result",
          "data": {
            "text/plain": [
              "((1437, 64), (360, 64), (1437,), (360,))"
            ]
          },
          "metadata": {},
          "execution_count": 12
        }
      ]
    },
    {
      "cell_type": "code",
      "source": [
        "ŋ = 0.0001"
      ],
      "metadata": {
        "id": "UGBnwwHuuGjT"
      },
      "execution_count": 13,
      "outputs": []
    },
    {
      "cell_type": "code",
      "source": [
        "# forwarding"
      ],
      "metadata": {
        "id": "Cxu9IJ6QjTNb"
      },
      "execution_count": 14,
      "outputs": []
    },
    {
      "cell_type": "code",
      "source": [
        "w1 = np.random.rand(X_train.shape[1],128)\n",
        "b1 = np.random.rand(1,128)\n",
        "w2 = np.random.rand(128,32)\n",
        "b2 = np.random.rand(1,32)\n",
        "w3 = np.random.rand(32,10)\n",
        "b3 = np.random.rand(1,10)\n",
        "epochs = 60\n",
        "losses = []\n",
        "acc_train = []\n",
        "for epoch in range(epochs):\n",
        "  Y_pred = []\n",
        "\n",
        "  for x, y in tqdm(zip(X_train, Y_train)):\n",
        "    #forward\n",
        "\n",
        "    H1 = sigmoid(x @ w1 + b1)\n",
        "\n",
        "    H2 = sigmoid(H1 @ w2 + b2)\n",
        "\n",
        "    H3 = softmax(H2 @ w3 + b3)\n",
        "\n",
        "    y_pred = H3\n",
        "\n",
        "    Y_pred.append(np.argmax(y_pred))\n",
        "\n",
        "    #backward\n",
        "    grad_error = -2 * (y - y_pred)\n",
        "    # print(grad_error.shape)\n",
        "    #layer3\n",
        "    grad_error = -2 * (y - y_pred)\n",
        "\n",
        "    grad_w3 = grad_error.T @ H2\n",
        "    grad_b3 = grad_error\n",
        "\n",
        "    #layer2\n",
        "    grad_error =  grad_error @ w3.T @ H2.T  @ (1 - H2)\n",
        "\n",
        "    grad_w2 = grad_error.T @ H1\n",
        "    grad_b2 = grad_error\n",
        "\n",
        "    #layer1\n",
        "    grad_error = grad_error @ w2.T  @ H1.T @ (1 - H1)\n",
        "    # print(grad_error.shape)\n",
        "    x = x.reshape(-1,1)\n",
        "    grad_w1 = x @ grad_error\n",
        "    grad_b1 = grad_error\n",
        "\n",
        "    # update\n",
        "    w1 -= ŋ * grad_w1\n",
        "    b1 -= ŋ * grad_b1\n",
        "    w2 -= ŋ * grad_w2.T\n",
        "    b2 -= ŋ * grad_b2\n",
        "    w3 -= ŋ * grad_w3.T\n",
        "    b3 -= ŋ * grad_b3\n",
        "\n",
        "  Y_pred = np.array(Y_pred)\n",
        "  # Y_pred = Y_pred.reshape(1437,-1)\n",
        "  # Y_pred = np.squeeze(Y_pred)\n",
        "  # print(\"Y_pred.shape\", Y_pred.shape)\n",
        "\n",
        "  loss_train = root_mean_square_error(Y_train, Y_pred)\n",
        "  # print(\"Y_pred\", Y_pred)\n",
        "  # print(\"Y_train\", Y_train)\n",
        "\n",
        "  accuracy_train =np.sum(Y_train==Y_pred)\n",
        "  acc_train.append(accuracy_train)\n",
        "  # print(np.argmax(Y_pred,axis=1))\n",
        "  # print(np.argmax(Y_train,axis=1))\n",
        "  losses.append(loss_train)\n",
        "  # print(losses)\n",
        "  # print(accuracy_train)\n",
        "\n",
        ""
      ],
      "metadata": {
        "id": "g-3nEHwMG8zo",
        "colab": {
          "base_uri": "https://localhost:8080/"
        },
        "outputId": "6765d87e-7ffd-40ee-cdf4-1c613733fda9"
      },
      "execution_count": 38,
      "outputs": [
        {
          "output_type": "stream",
          "name": "stderr",
          "text": [
            "1437it [00:00, 5798.45it/s]\n",
            "360it [00:00, 19004.79it/s]\n"
          ]
        },
        {
          "output_type": "stream",
          "name": "stdout",
          "text": [
            "[5.016573442682122]\n"
          ]
        },
        {
          "output_type": "stream",
          "name": "stderr",
          "text": [
            "1437it [00:00, 5570.39it/s]\n",
            "360it [00:00, 9398.77it/s]\n"
          ]
        },
        {
          "output_type": "stream",
          "name": "stdout",
          "text": [
            "[5.0164451610972405]\n"
          ]
        },
        {
          "output_type": "stream",
          "name": "stderr",
          "text": [
            "1437it [00:00, 5790.76it/s]\n",
            "360it [00:00, 23481.79it/s]\n"
          ]
        },
        {
          "output_type": "stream",
          "name": "stdout",
          "text": [
            "[5.0164221961916775]\n"
          ]
        },
        {
          "output_type": "stream",
          "name": "stderr",
          "text": [
            "1437it [00:00, 5625.40it/s]\n",
            "360it [00:00, 21061.62it/s]\n"
          ]
        },
        {
          "output_type": "stream",
          "name": "stdout",
          "text": [
            "[5.016418239863236]\n"
          ]
        },
        {
          "output_type": "stream",
          "name": "stderr",
          "text": [
            "1437it [00:00, 5318.28it/s]\n",
            "360it [00:00, 20342.87it/s]\n"
          ]
        },
        {
          "output_type": "stream",
          "name": "stdout",
          "text": [
            "[5.016417606142702]\n"
          ]
        },
        {
          "output_type": "stream",
          "name": "stderr",
          "text": [
            "1437it [00:00, 5043.66it/s]\n",
            "360it [00:00, 20094.35it/s]\n"
          ]
        },
        {
          "output_type": "stream",
          "name": "stdout",
          "text": [
            "[5.016417508472986]\n"
          ]
        },
        {
          "output_type": "stream",
          "name": "stderr",
          "text": [
            "1437it [00:00, 5598.84it/s]\n",
            "360it [00:00, 21889.99it/s]\n"
          ]
        },
        {
          "output_type": "stream",
          "name": "stdout",
          "text": [
            "[5.016417493666876]\n"
          ]
        },
        {
          "output_type": "stream",
          "name": "stderr",
          "text": [
            "1437it [00:00, 4075.45it/s]\n",
            "360it [00:00, 13734.43it/s]\n"
          ]
        },
        {
          "output_type": "stream",
          "name": "stdout",
          "text": [
            "[5.016417491437229]\n"
          ]
        },
        {
          "output_type": "stream",
          "name": "stderr",
          "text": [
            "1437it [00:00, 3047.05it/s]\n",
            "360it [00:00, 14058.07it/s]\n"
          ]
        },
        {
          "output_type": "stream",
          "name": "stdout",
          "text": [
            "[5.0164174911023425]\n"
          ]
        },
        {
          "output_type": "stream",
          "name": "stderr",
          "text": [
            "1437it [00:00, 3393.50it/s]\n",
            "360it [00:00, 12567.20it/s]\n"
          ]
        },
        {
          "output_type": "stream",
          "name": "stdout",
          "text": [
            "[5.016417491052096]\n"
          ]
        },
        {
          "output_type": "stream",
          "name": "stderr",
          "text": [
            "1437it [00:00, 3158.88it/s]\n",
            "360it [00:00, 13676.33it/s]\n"
          ]
        },
        {
          "output_type": "stream",
          "name": "stdout",
          "text": [
            "[5.0164174910445585]\n"
          ]
        },
        {
          "output_type": "stream",
          "name": "stderr",
          "text": [
            "1437it [00:00, 3289.90it/s]\n",
            "360it [00:00, 14227.89it/s]\n"
          ]
        },
        {
          "output_type": "stream",
          "name": "stdout",
          "text": [
            "[5.016417491043429]\n"
          ]
        },
        {
          "output_type": "stream",
          "name": "stderr",
          "text": [
            "1437it [00:00, 3156.04it/s]\n",
            "360it [00:00, 12101.18it/s]\n"
          ]
        },
        {
          "output_type": "stream",
          "name": "stdout",
          "text": [
            "[5.016417491043259]\n"
          ]
        },
        {
          "output_type": "stream",
          "name": "stderr",
          "text": [
            "1437it [00:00, 3246.44it/s]\n",
            "360it [00:00, 10792.68it/s]\n"
          ]
        },
        {
          "output_type": "stream",
          "name": "stdout",
          "text": [
            "[5.016417491043233]\n"
          ]
        },
        {
          "output_type": "stream",
          "name": "stderr",
          "text": [
            "1437it [00:00, 4296.19it/s]\n",
            "360it [00:00, 20613.08it/s]\n"
          ]
        },
        {
          "output_type": "stream",
          "name": "stdout",
          "text": [
            "[5.01641749104323]\n"
          ]
        },
        {
          "output_type": "stream",
          "name": "stderr",
          "text": [
            "1437it [00:00, 5462.71it/s]\n",
            "360it [00:00, 21841.23it/s]\n"
          ]
        },
        {
          "output_type": "stream",
          "name": "stdout",
          "text": [
            "[5.016417491043229]\n"
          ]
        },
        {
          "output_type": "stream",
          "name": "stderr",
          "text": [
            "0it [00:00, ?it/s]/usr/local/lib/python3.10/dist-packages/numpy/core/fromnumeric.py:86: RuntimeWarning: overflow encountered in reduce\n",
            "  return ufunc.reduce(obj, axis, dtype, out, **passkwargs)\n",
            "565it [00:00, 5640.98it/s]<ipython-input-6-ef044ce6b144>:5: RuntimeWarning: overflow encountered in exp\n",
            "  return np.exp(x) / np.sum(np.exp(x))\n",
            "<ipython-input-6-ef044ce6b144>:5: RuntimeWarning: invalid value encountered in divide\n",
            "  return np.exp(x) / np.sum(np.exp(x))\n",
            "1437it [00:00, 5461.69it/s]\n",
            "360it [00:00, 20896.64it/s]\n"
          ]
        },
        {
          "output_type": "stream",
          "name": "stdout",
          "text": [
            "[nan]\n"
          ]
        },
        {
          "output_type": "stream",
          "name": "stderr",
          "text": [
            "1437it [00:00, 5505.79it/s]\n",
            "360it [00:00, 22704.30it/s]\n"
          ]
        },
        {
          "output_type": "stream",
          "name": "stdout",
          "text": [
            "[nan]\n"
          ]
        },
        {
          "output_type": "stream",
          "name": "stderr",
          "text": [
            "1437it [00:00, 5531.51it/s]\n",
            "360it [00:00, 22998.59it/s]\n"
          ]
        },
        {
          "output_type": "stream",
          "name": "stdout",
          "text": [
            "[nan]\n"
          ]
        },
        {
          "output_type": "stream",
          "name": "stderr",
          "text": [
            "1437it [00:00, 5777.46it/s]\n",
            "360it [00:00, 21276.78it/s]\n"
          ]
        },
        {
          "output_type": "stream",
          "name": "stdout",
          "text": [
            "[nan]\n"
          ]
        },
        {
          "output_type": "stream",
          "name": "stderr",
          "text": [
            "1437it [00:00, 5584.42it/s]\n",
            "360it [00:00, 22735.07it/s]\n"
          ]
        },
        {
          "output_type": "stream",
          "name": "stdout",
          "text": [
            "[nan]\n"
          ]
        },
        {
          "output_type": "stream",
          "name": "stderr",
          "text": [
            "1437it [00:00, 5517.61it/s]\n",
            "360it [00:00, 22014.13it/s]\n"
          ]
        },
        {
          "output_type": "stream",
          "name": "stdout",
          "text": [
            "[nan]\n"
          ]
        },
        {
          "output_type": "stream",
          "name": "stderr",
          "text": [
            "1437it [00:00, 5483.48it/s]\n",
            "360it [00:00, 24323.81it/s]\n"
          ]
        },
        {
          "output_type": "stream",
          "name": "stdout",
          "text": [
            "[nan]\n"
          ]
        },
        {
          "output_type": "stream",
          "name": "stderr",
          "text": [
            "1437it [00:00, 5904.23it/s]\n",
            "360it [00:00, 17942.69it/s]\n"
          ]
        },
        {
          "output_type": "stream",
          "name": "stdout",
          "text": [
            "[nan]\n"
          ]
        },
        {
          "output_type": "stream",
          "name": "stderr",
          "text": [
            "1437it [00:00, 5837.32it/s]\n",
            "360it [00:00, 21774.77it/s]\n"
          ]
        },
        {
          "output_type": "stream",
          "name": "stdout",
          "text": [
            "[nan]\n"
          ]
        },
        {
          "output_type": "stream",
          "name": "stderr",
          "text": [
            "1437it [00:00, 5443.40it/s]\n",
            "360it [00:00, 22408.46it/s]\n"
          ]
        },
        {
          "output_type": "stream",
          "name": "stdout",
          "text": [
            "[nan]\n"
          ]
        },
        {
          "output_type": "stream",
          "name": "stderr",
          "text": [
            "1437it [00:00, 5723.28it/s]\n",
            "360it [00:00, 23840.30it/s]\n"
          ]
        },
        {
          "output_type": "stream",
          "name": "stdout",
          "text": [
            "[nan]\n"
          ]
        },
        {
          "output_type": "stream",
          "name": "stderr",
          "text": [
            "1437it [00:00, 5875.13it/s]\n",
            "360it [00:00, 22804.43it/s]\n"
          ]
        },
        {
          "output_type": "stream",
          "name": "stdout",
          "text": [
            "[nan]\n"
          ]
        },
        {
          "output_type": "stream",
          "name": "stderr",
          "text": [
            "1437it [00:00, 5696.76it/s]\n",
            "360it [00:00, 22487.89it/s]\n"
          ]
        },
        {
          "output_type": "stream",
          "name": "stdout",
          "text": [
            "[nan]\n"
          ]
        },
        {
          "output_type": "stream",
          "name": "stderr",
          "text": [
            "1437it [00:00, 5384.26it/s]\n",
            "360it [00:00, 22491.91it/s]\n"
          ]
        },
        {
          "output_type": "stream",
          "name": "stdout",
          "text": [
            "[nan]\n"
          ]
        },
        {
          "output_type": "stream",
          "name": "stderr",
          "text": [
            "1437it [00:00, 5930.26it/s]\n",
            "360it [00:00, 21403.15it/s]\n"
          ]
        },
        {
          "output_type": "stream",
          "name": "stdout",
          "text": [
            "[nan]\n"
          ]
        },
        {
          "output_type": "stream",
          "name": "stderr",
          "text": [
            "1437it [00:00, 5840.61it/s]\n",
            "360it [00:00, 19445.83it/s]\n"
          ]
        },
        {
          "output_type": "stream",
          "name": "stdout",
          "text": [
            "[nan]\n"
          ]
        },
        {
          "output_type": "stream",
          "name": "stderr",
          "text": [
            "1437it [00:00, 5173.76it/s]\n",
            "360it [00:00, 20962.79it/s]\n"
          ]
        },
        {
          "output_type": "stream",
          "name": "stdout",
          "text": [
            "[nan]\n"
          ]
        },
        {
          "output_type": "stream",
          "name": "stderr",
          "text": [
            "1437it [00:00, 5676.96it/s]\n",
            "360it [00:00, 23119.02it/s]\n"
          ]
        },
        {
          "output_type": "stream",
          "name": "stdout",
          "text": [
            "[nan]\n"
          ]
        },
        {
          "output_type": "stream",
          "name": "stderr",
          "text": [
            "1437it [00:00, 5873.83it/s]\n",
            "360it [00:00, 22863.13it/s]\n"
          ]
        },
        {
          "output_type": "stream",
          "name": "stdout",
          "text": [
            "[nan]\n"
          ]
        },
        {
          "output_type": "stream",
          "name": "stderr",
          "text": [
            "1437it [00:00, 5595.82it/s]\n",
            "360it [00:00, 20534.31it/s]\n"
          ]
        },
        {
          "output_type": "stream",
          "name": "stdout",
          "text": [
            "[nan]\n"
          ]
        },
        {
          "output_type": "stream",
          "name": "stderr",
          "text": [
            "1437it [00:00, 5408.95it/s]\n",
            "360it [00:00, 21993.61it/s]\n"
          ]
        },
        {
          "output_type": "stream",
          "name": "stdout",
          "text": [
            "[nan]\n"
          ]
        },
        {
          "output_type": "stream",
          "name": "stderr",
          "text": [
            "1437it [00:00, 5852.32it/s]\n",
            "360it [00:00, 22703.96it/s]\n"
          ]
        },
        {
          "output_type": "stream",
          "name": "stdout",
          "text": [
            "[nan]\n"
          ]
        },
        {
          "output_type": "stream",
          "name": "stderr",
          "text": [
            "1437it [00:00, 5678.02it/s]\n",
            "360it [00:00, 21955.88it/s]\n"
          ]
        },
        {
          "output_type": "stream",
          "name": "stdout",
          "text": [
            "[nan]\n"
          ]
        },
        {
          "output_type": "stream",
          "name": "stderr",
          "text": [
            "1437it [00:00, 5498.46it/s]\n",
            "360it [00:00, 11367.45it/s]\n"
          ]
        },
        {
          "output_type": "stream",
          "name": "stdout",
          "text": [
            "[nan]\n"
          ]
        },
        {
          "output_type": "stream",
          "name": "stderr",
          "text": [
            "1437it [00:00, 5624.72it/s]\n",
            "360it [00:00, 22621.30it/s]\n"
          ]
        },
        {
          "output_type": "stream",
          "name": "stdout",
          "text": [
            "[nan]\n"
          ]
        },
        {
          "output_type": "stream",
          "name": "stderr",
          "text": [
            "1437it [00:00, 5948.37it/s]\n",
            "360it [00:00, 21793.94it/s]\n"
          ]
        },
        {
          "output_type": "stream",
          "name": "stdout",
          "text": [
            "[nan]\n"
          ]
        },
        {
          "output_type": "stream",
          "name": "stderr",
          "text": [
            "1437it [00:00, 5529.99it/s]\n",
            "360it [00:00, 17522.51it/s]\n"
          ]
        },
        {
          "output_type": "stream",
          "name": "stdout",
          "text": [
            "[nan]\n"
          ]
        },
        {
          "output_type": "stream",
          "name": "stderr",
          "text": [
            "1437it [00:00, 5396.13it/s]\n",
            "360it [00:00, 24343.03it/s]\n"
          ]
        },
        {
          "output_type": "stream",
          "name": "stdout",
          "text": [
            "[nan]\n"
          ]
        },
        {
          "output_type": "stream",
          "name": "stderr",
          "text": [
            "1437it [00:00, 5691.91it/s]\n",
            "360it [00:00, 17054.83it/s]\n"
          ]
        },
        {
          "output_type": "stream",
          "name": "stdout",
          "text": [
            "[nan]\n"
          ]
        },
        {
          "output_type": "stream",
          "name": "stderr",
          "text": [
            "1437it [00:00, 5513.00it/s]\n",
            "360it [00:00, 21596.31it/s]\n"
          ]
        },
        {
          "output_type": "stream",
          "name": "stdout",
          "text": [
            "[nan]\n"
          ]
        },
        {
          "output_type": "stream",
          "name": "stderr",
          "text": [
            "1437it [00:00, 4938.00it/s]\n",
            "360it [00:00, 19289.82it/s]\n"
          ]
        },
        {
          "output_type": "stream",
          "name": "stdout",
          "text": [
            "[nan]\n"
          ]
        },
        {
          "output_type": "stream",
          "name": "stderr",
          "text": [
            "1437it [00:00, 5323.63it/s]\n",
            "360it [00:00, 20829.76it/s]\n"
          ]
        },
        {
          "output_type": "stream",
          "name": "stdout",
          "text": [
            "[nan]\n"
          ]
        },
        {
          "output_type": "stream",
          "name": "stderr",
          "text": [
            "1437it [00:00, 4823.60it/s]\n",
            "360it [00:00, 12406.12it/s]\n"
          ]
        },
        {
          "output_type": "stream",
          "name": "stdout",
          "text": [
            "[nan]\n"
          ]
        },
        {
          "output_type": "stream",
          "name": "stderr",
          "text": [
            "1437it [00:00, 3005.71it/s]\n",
            "360it [00:00, 12663.96it/s]\n"
          ]
        },
        {
          "output_type": "stream",
          "name": "stdout",
          "text": [
            "[nan]\n"
          ]
        },
        {
          "output_type": "stream",
          "name": "stderr",
          "text": [
            "1437it [00:00, 2916.51it/s]\n",
            "360it [00:00, 14148.57it/s]\n"
          ]
        },
        {
          "output_type": "stream",
          "name": "stdout",
          "text": [
            "[nan]\n"
          ]
        },
        {
          "output_type": "stream",
          "name": "stderr",
          "text": [
            "1437it [00:00, 3053.28it/s]\n",
            "360it [00:00, 12366.40it/s]\n"
          ]
        },
        {
          "output_type": "stream",
          "name": "stdout",
          "text": [
            "[nan]\n"
          ]
        },
        {
          "output_type": "stream",
          "name": "stderr",
          "text": [
            "1437it [00:00, 3205.97it/s]\n",
            "360it [00:00, 11349.25it/s]\n"
          ]
        },
        {
          "output_type": "stream",
          "name": "stdout",
          "text": [
            "[nan]\n"
          ]
        },
        {
          "output_type": "stream",
          "name": "stderr",
          "text": [
            "1437it [00:00, 3198.78it/s]\n",
            "360it [00:00, 12158.19it/s]\n"
          ]
        },
        {
          "output_type": "stream",
          "name": "stdout",
          "text": [
            "[nan]\n"
          ]
        },
        {
          "output_type": "stream",
          "name": "stderr",
          "text": [
            "1437it [00:00, 3196.03it/s]\n",
            "360it [00:00, 13833.20it/s]\n"
          ]
        },
        {
          "output_type": "stream",
          "name": "stdout",
          "text": [
            "[nan]\n"
          ]
        },
        {
          "output_type": "stream",
          "name": "stderr",
          "text": [
            "1437it [00:00, 3965.92it/s]\n",
            "360it [00:00, 22853.09it/s]\n"
          ]
        },
        {
          "output_type": "stream",
          "name": "stdout",
          "text": [
            "[nan]\n"
          ]
        },
        {
          "output_type": "stream",
          "name": "stderr",
          "text": [
            "1437it [00:00, 5377.33it/s]\n",
            "360it [00:00, 22045.63it/s]\n"
          ]
        },
        {
          "output_type": "stream",
          "name": "stdout",
          "text": [
            "[nan]\n"
          ]
        },
        {
          "output_type": "stream",
          "name": "stderr",
          "text": [
            "1437it [00:00, 5632.41it/s]\n",
            "360it [00:00, 20721.71it/s]\n"
          ]
        },
        {
          "output_type": "stream",
          "name": "stdout",
          "text": [
            "[nan]\n"
          ]
        },
        {
          "output_type": "stream",
          "name": "stderr",
          "text": [
            "1437it [00:00, 5735.07it/s]\n",
            "360it [00:00, 18541.55it/s]\n"
          ]
        },
        {
          "output_type": "stream",
          "name": "stdout",
          "text": [
            "[nan]\n"
          ]
        },
        {
          "output_type": "stream",
          "name": "stderr",
          "text": [
            "1437it [00:00, 5464.14it/s]\n",
            "360it [00:00, 19520.50it/s]"
          ]
        },
        {
          "output_type": "stream",
          "name": "stdout",
          "text": [
            "[nan]\n"
          ]
        },
        {
          "output_type": "stream",
          "name": "stderr",
          "text": [
            "\n"
          ]
        }
      ]
    },
    {
      "cell_type": "code",
      "source": [
        "plt.plot(losses_test)\n"
      ],
      "metadata": {
        "colab": {
          "base_uri": "https://localhost:8080/",
          "height": 447
        },
        "id": "5M2k7f-q7roq",
        "outputId": "34ebff04-0859-4508-fa5b-2b75bcdefc32"
      },
      "execution_count": 35,
      "outputs": [
        {
          "output_type": "execute_result",
          "data": {
            "text/plain": [
              "[<matplotlib.lines.Line2D at 0x7e963b339c90>]"
            ]
          },
          "metadata": {},
          "execution_count": 35
        },
        {
          "output_type": "display_data",
          "data": {
            "text/plain": [
              "<Figure size 640x480 with 1 Axes>"
            ],
            "image/png": "[encoded data removed]"
          },
          "metadata": {}
        }
      ]
    },
    {
      "cell_type": "code",
      "source": [
        "print(Y_test.shape)"
      ],
      "metadata": {
        "colab": {
          "base_uri": "https://localhost:8080/"
        },
        "id": "hquEGpbI7buL",
        "outputId": "5f55744f-c500-47c3-d57d-0b795caa2b5a"
      },
      "execution_count": 17,
      "outputs": [
        {
          "output_type": "stream",
          "name": "stdout",
          "text": [
            "(360,)\n"
          ]
        }
      ]
    },
    {
      "cell_type": "code",
      "source": [
        "plt.plot(acc_train)"
      ],
      "metadata": {
        "colab": {
          "base_uri": "https://localhost:8080/",
          "height": 447
        },
        "id": "hUyaQshuxF_i",
        "outputId": "1f01812a-978c-450b-c4e7-782ddeb3d885"
      },
      "execution_count": 157,
      "outputs": [
        {
          "output_type": "execute_result",
          "data": {
            "text/plain": [
              "[<matplotlib.lines.Line2D at 0x7d043b4360b0>]"
            ]
          },
          "metadata": {},
          "execution_count": 157
        },
        {
          "output_type": "display_data",
          "data": {
            "text/plain": [
              "<Figure size 640x480 with 1 Axes>"
            ],
            "image/png": "[encoded data removed]"
          },
          "metadata": {}
        }
      ]
    },
    {
      "cell_type": "code",
      "source": [
        "plt.plot(losses)"
      ],
      "metadata": {
        "colab": {
          "base_uri": "https://localhost:8080/",
          "height": 449
        },
        "id": "CU7SMix1WHQH",
        "outputId": "ac70a5e5-8b28-43c4-a0a5-52f2b4c9625a"
      },
      "execution_count": 124,
      "outputs": [
        {
          "output_type": "execute_result",
          "data": {
            "text/plain": [
              "[<matplotlib.lines.Line2D at 0x7d043b2b0ac0>]"
            ]
          },
          "metadata": {},
          "execution_count": 124
        },
        {
          "output_type": "display_data",
          "data": {
            "text/plain": [
              "<Figure size 640x480 with 1 Axes>"
            ],
            "image/png": "[encoded data removed]"
          },
          "metadata": {}
        }
      ]
    },
    {
      "cell_type": "code",
      "source": [
        "\n",
        "Y_pred_test = []\n",
        "for x, y in tqdm(zip(X_train, Y_train)):\n",
        "\n",
        "  H1 = sigmoid(x @ w1 + b1)\n",
        "\n",
        "  H2 = sigmoid(H1 @ w2 + b2)\n",
        "\n",
        "  H3 = softmax(H2 @ w3 + b3)\n",
        "\n",
        "  y_pred_test = H3\n",
        "\n",
        "  Y_pred_test.append(y_pred_test)\n",
        "\n",
        "losses.append(root_mean_square_error(Y_test,Y_pred_test))\n",
        "plt.plot(losses)\n",
        "plt.title(\"Test Loss\")\n",
        "plt.grid(True)\n",
        "plt.show()\n",
        "\n",
        "\n",
        "\n"
      ],
      "metadata": {
        "id": "RHBMyUsuaKOU",
        "colab": {
          "base_uri": "https://localhost:8080/",
          "height": 469
        },
        "outputId": "56628f46-5380-4521-dbcd-379bd07e7433"
      },
      "execution_count": 58,
      "outputs": [
        {
          "output_type": "stream",
          "name": "stderr",
          "text": [
            "1437it [00:00, 22488.27it/s]\n"
          ]
        },
        {
          "output_type": "display_data",
          "data": {
            "text/plain": [
              "<Figure size 640x480 with 1 Axes>"
            ],
            "image/png": "[encoded data removed]"
          },
          "metadata": {}
        }
      ]
    },
    {
      "cell_type": "code",
      "source": [
        "# predict\n"
      ],
      "metadata": {
        "id": "fzDnMOhQ_hnk"
      },
      "execution_count": null,
      "outputs": []
    },
    {
      "cell_type": "code",
      "source": [],
      "metadata": {
        "id": "4TZQLAC2_m6L"
      },
      "execution_count": null,
      "outputs": []
    }
  ]
}