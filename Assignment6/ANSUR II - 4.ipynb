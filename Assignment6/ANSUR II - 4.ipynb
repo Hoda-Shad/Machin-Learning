{
 "cells": [
  {
   "cell_type": "code",
   "execution_count": 6,
   "id": "f995177f-483e-48ff-a05a-84be7543f7e7",
   "metadata": {},
   "outputs": [],
   "source": [
    "import numpy as np \n",
    "import pandas as pd\n",
    "import matplotlib.pyplot as plt\n",
    "from matplotlib.colors import ListedColormap\n",
    "from knn import KNN"
   ]
  },
  {
   "cell_type": "code",
   "execution_count": 7,
   "id": "d798060b-d1e8-4dc8-afc8-61b8aa9e5bc5",
   "metadata": {},
   "outputs": [],
   "source": [
    "male_data = pd.read_csv ( 'ANSUR_II_MALE_Public.csv', encoding = \"latin-1\")\n",
    "female_data = pd.read_csv ( 'ANSUR_II_FEMALE_Public.csv', encoding = \"latin-1\")\n",
    "data = pd.concat([male_data,female_data ])\n"
   ]
  },
  {
   "cell_type": "code",
   "execution_count": 8,
   "id": "b97acb24-1547-42fa-af04-f4dc4d9f93af",
   "metadata": {},
   "outputs": [],
   "source": [
    "#preprocess"
   ]
  },
  {
   "cell_type": "code",
   "execution_count": 9,
   "id": "5cc50623-d60e-41a9-bdaa-69a6b6eb78e9",
   "metadata": {},
   "outputs": [],
   "source": [
    "data['weightkg'] = data['weightkg'] / 10\n",
    "data['stature'] = data['stature'] / 10 \n",
    "data['waistcircumference'] = data['waistcircumference'] /10 \n",
    "data['chestcircumference'] = data['chestcircumference'] /10 \n",
    "data['Gender'] = data['Gender'].replace(['Female','Male'], [0,1])\n"
   ]
  },
  {
   "cell_type": "code",
   "execution_count": 10,
   "id": "a2b220fe-e0c2-4e51-b8a9-ff8c73c8ba38",
   "metadata": {},
   "outputs": [],
   "source": [
    "from sklearn.model_selection import train_test_split"
   ]
  },
  {
   "cell_type": "code",
   "execution_count": 11,
   "id": "45c1bda5-b7a2-468a-9fd4-b9a7b71ed539",
   "metadata": {},
   "outputs": [],
   "source": [
    "def generate_dataset():\n",
    "    # weight = data['weightkg'].to_numpy()\n",
    "    # height = data['stature'].to_numpy()\n",
    "    # wci = data['waistcircumference'].to_numpy()\n",
    "    # chest = data['chestcircumference'].to_numpy()\n",
    "    X = data[['weightkg','stature','waistcircumference','chestcircumference']].to_numpy()\n",
    "    Y = data['Gender'].to_numpy()\n",
    "    return X,Y\n"
   ]
  },
  {
   "cell_type": "code",
   "execution_count": 12,
   "id": "34d1d1a0-f600-45cf-adc8-c040a597246a",
   "metadata": {},
   "outputs": [
    {
     "data": {
      "text/plain": [
       "(array([[ 81.5, 177.6,  93.3, 107.4],\n",
       "        [ 72.6, 170.2,  87. , 102.1],\n",
       "        [ 92.9, 173.5,  96.4, 112. ],\n",
       "        ...,\n",
       "        [ 76.2, 164.4,  98.2, 109.3],\n",
       "        [ 63.2, 161.6,  83.7,  92.2],\n",
       "        [ 61. , 164.1,  89.1,  90.2]]),\n",
       " array([1, 1, 1, ..., 0, 0, 0], dtype=int64))"
      ]
     },
     "execution_count": 12,
     "metadata": {},
     "output_type": "execute_result"
    }
   ],
   "source": [
    "X,Y = generate_dataset()\n",
    "X,Y"
   ]
  },
  {
   "cell_type": "code",
   "execution_count": 13,
   "id": "1dc4280d-2fc8-4791-a10a-6c00f12e7d65",
   "metadata": {},
   "outputs": [
    {
     "data": {
      "text/plain": [
       "1214"
      ]
     },
     "execution_count": 13,
     "metadata": {},
     "output_type": "execute_result"
    }
   ],
   "source": [
    "x_train, x_test, y_train, y_test = train_test_split(X, Y, train_size=0.8, random_state=4)\n",
    "len(x_test)\n"
   ]
  },
  {
   "cell_type": "code",
   "execution_count": 14,
   "id": "2b9aebcc-08fc-4c09-9465-e4ac3c360c60",
   "metadata": {},
   "outputs": [
    {
     "data": {
      "text/plain": [
       "(array([[ 90. , 179. ,  94.9, 102.7],\n",
       "        [ 88. , 177.7, 101.3, 109.2],\n",
       "        [ 64.5, 163.7,  78.6,  95.3],\n",
       "        ...,\n",
       "        [ 91.3, 171.8, 104. , 113.8],\n",
       "        [ 95.1, 181.8, 100.3, 108.7],\n",
       "        [ 70.2, 165.9,  91. , 103. ]]),\n",
       " array([1, 1, 1, ..., 1, 1, 1], dtype=int64))"
      ]
     },
     "execution_count": 14,
     "metadata": {},
     "output_type": "execute_result"
    }
   ],
   "source": [
    "x_test, y_test"
   ]
  },
  {
   "cell_type": "code",
   "execution_count": 52,
   "id": "46c8d9d3-f9b6-450b-adaa-e108c05cebec",
   "metadata": {},
   "outputs": [],
   "source": [
    "k = 7"
   ]
  },
  {
   "cell_type": "code",
   "execution_count": 53,
   "id": "6fdf6f7e-4d61-4a23-9d15-96942952eadb",
   "metadata": {},
   "outputs": [
    {
     "name": "stdout",
     "output_type": "stream",
     "text": [
      "[1, 0, 0, 1, 1]\n",
      "Male👨\n",
      "Female👩\n",
      "Female👩\n",
      "Male👨\n",
      "Male👨\n"
     ]
    }
   ],
   "source": [
    "knn = KNN(k=k)\n",
    "knn.fit(x_train , y_train)\n",
    "sample1 = np.array([85,  164.9, 94.9, 128] )\n",
    "sample2 = np.array([90 , 156.1, 102, 99])\n",
    "sample3 = np.array([52.3  , 169 ,79,98])\n",
    "sample4 = np.array([80.4 , 190.5, 91,122])\n",
    "sample5 = np.array([70 , 170 , 103,109])\n",
    "samples = [sample1, sample2, sample3, sample4, sample5]\n",
    "outputs = knn.predict(samples)\n",
    "print(outputs)\n",
    "for output in outputs: \n",
    "    if output == 0 : \n",
    "        print('Female👩')\n",
    "    else:\n",
    "        print('Male👨')"
   ]
  },
  {
   "cell_type": "code",
   "execution_count": 54,
   "id": "1e9d5961-9833-4b2a-88d1-f345cf1a2f58",
   "metadata": {},
   "outputs": [
    {
     "data": {
      "text/plain": [
       "0.8920922570016474"
      ]
     },
     "execution_count": 54,
     "metadata": {},
     "output_type": "execute_result"
    }
   ],
   "source": [
    "knn.evaluate(x_test , y_test)"
   ]
  },
  {
   "cell_type": "code",
   "execution_count": 48,
   "id": "a9e9b0b6-e7a3-4c0a-8ca1-542c81a1b970",
   "metadata": {},
   "outputs": [],
   "source": [
    "#Confusion Matrix"
   ]
  },
  {
   "cell_type": "code",
   "execution_count": 49,
   "id": "9ffaf2bf-6f87-4cc8-b381-8c2f221b2e2c",
   "metadata": {},
   "outputs": [
    {
     "data": {
      "text/plain": [
       "array([[312.,  60.],\n",
       "       [ 78., 764.]])"
      ]
     },
     "execution_count": 49,
     "metadata": {},
     "output_type": "execute_result"
    }
   ],
   "source": [
    "y_pred = knn.predict(x_test)\n",
    "def cm(y_pred, y_test):\n",
    "    confusion_matrix = np.zeros((2,2))\n",
    "    for i in range (len(x_test)):\n",
    "        if y_pred[i] == 0 and  y_test[i] == 0:\n",
    "            confusion_matrix[0][0] += 1 \n",
    "        if y_pred[i] == 0 and y_test[i] == 1 :\n",
    "            confusion_matrix[0][1] += 1\n",
    "        if y_pred[i] == 1 and y_test[i] == 0 :\n",
    "            confusion_matrix[1][0] += 1 \n",
    "        if y_pred[i] == 1 and y_test[i] == 1 :\n",
    "            confusion_matrix[1][1] += 1\n",
    "    return(confusion_matrix)\n",
    "        \n",
    "confusion_matrix = cm(y_pred, y_test)\n",
    "confusion_matrix"
   ]
  },
  {
   "cell_type": "code",
   "execution_count": 50,
   "id": "71a6e46e-3033-464c-9321-f4ecc759c392",
   "metadata": {},
   "outputs": [
    {
     "data": {
      "text/plain": [
       "0.886326194398682"
      ]
     },
     "execution_count": 50,
     "metadata": {},
     "output_type": "execute_result"
    }
   ],
   "source": [
    "from sklearn.neighbors import KNeighborsClassifier\n",
    "knn = KNeighborsClassifier(n_neighbors = k )\n",
    "knn.fit(x_train , y_train)\n",
    "knn.score(x_test, y_test)"
   ]
  },
  {
   "cell_type": "code",
   "execution_count": 51,
   "id": "bc1235a1-3b69-4db4-b904-d4431b2697da",
   "metadata": {},
   "outputs": [],
   "source": [
    "from sklearn.metrics import confusion_matrix\n",
    "from sklearn import metrics "
   ]
  },
  {
   "cell_type": "code",
   "execution_count": 34,
   "id": "2deefd3c-6f47-45d4-abe5-2a7cdde7dc54",
   "metadata": {},
   "outputs": [
    {
     "data": {
      "text/plain": [
       "array([[312,  78],\n",
       "       [ 60, 764]], dtype=int64)"
      ]
     },
     "execution_count": 34,
     "metadata": {},
     "output_type": "execute_result"
    }
   ],
   "source": [
    "y_pred = knn.predict(x_test)\n",
    "cm = confusion_matrix(y_test, y_pred)\n",
    "cm"
   ]
  },
  {
   "cell_type": "code",
   "execution_count": 35,
   "id": "84d71a27-b16a-4936-a67f-0375197631bf",
   "metadata": {},
   "outputs": [],
   "source": [
    "from sklearn.metrics import confusion_matrix, ConfusionMatrixDisplay"
   ]
  },
  {
   "cell_type": "code",
   "execution_count": 36,
   "id": "7c7d1a4d-64a3-41dd-a997-ce779209dfd2",
   "metadata": {},
   "outputs": [],
   "source": [
    "confusion_matrix = metrics.confusion_matrix(y_test, y_pred) "
   ]
  },
  {
   "cell_type": "code",
   "execution_count": 37,
   "id": "653f64b8-fb09-404e-98ed-39a99d6eb56b",
   "metadata": {},
   "outputs": [],
   "source": [
    "cm_display = metrics.ConfusionMatrixDisplay(confusion_matrix = cm, display_labels = [False, True]) "
   ]
  },
  {
   "cell_type": "code",
   "execution_count": 30,
   "id": "750b10ae-de48-4450-b89b-29d4f93321ee",
   "metadata": {},
   "outputs": [
    {
     "data": {
      "image/png": "[encoded data removed]",
      "text/plain": [
       "<Figure size 640x480 with 2 Axes>"
      ]
     },
     "metadata": {},
     "output_type": "display_data"
    }
   ],
   "source": [
    "cm_display.plot(cmap=plt.cm.Blues)\n",
    "plt.show() "
   ]
  },
  {
   "cell_type": "code",
   "execution_count": null,
   "id": "6a77ea16-2c51-4b19-9f4e-e22061d61bd6",
   "metadata": {},
   "outputs": [],
   "source": []
  }
 ],
 "metadata": {
  "kernelspec": {
   "display_name": "Python 3 (ipykernel)",
   "language": "python",
   "name": "python3"
  },
  "language_info": {
   "codemirror_mode": {
    "name": "ipython",
    "version": 3
   },
   "file_extension": ".py",
   "mimetype": "text/x-python",
   "name": "python",
   "nbconvert_exporter": "python",
   "pygments_lexer": "ipython3",
   "version": "3.11.3"
  }
 },
 "nbformat": 4,
 "nbformat_minor": 5
}
