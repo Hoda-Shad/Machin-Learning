{
 "cells": [
  {
   "cell_type": "code",
   "execution_count": 13,
   "id": "15aaa4a6-ae3a-404d-a353-d14603f65c18",
   "metadata": {},
   "outputs": [],
   "source": [
    "import numpy as np \n",
    "from matplotlib import pyplot as plt \n",
    "from matplotlib.colors import ListedColormap\n",
    "from knn import KNN\n",
    "N = 100"
   ]
  },
  {
   "cell_type": "code",
   "execution_count": 14,
   "id": "6903390d-dc1f-4847-b262-1702ba134365",
   "metadata": {},
   "outputs": [],
   "source": [
    "def generate_dataset(N):\n",
    "    apple_width = np.random.normal(6,1,N)\n",
    "    apple_lenght = np.random.normal(6,1,N)\n",
    "    banana_width = np.random.normal(4,1,N)\n",
    "    banana_lenght = np.random.normal(8,1,N)\n",
    "    width = np.concatenate((apple_width,banana_width))\n",
    "    lenght = np.concatenate((apple_lenght,banana_lenght))\n",
    "    X = np.array([width,lenght]).T\n",
    "    Y_apples = np.zeros(N , dtype = 'int')\n",
    "    Y_bananas = np.ones(N , dtype = 'int')\n",
    "    Y = np.concatenate((Y_apples,Y_bananas ))\n",
    "    return X,Y"
   ]
  },
  {
   "cell_type": "code",
   "execution_count": 15,
   "id": "f7186c15-89fa-4d88-b3be-8c7310802061",
   "metadata": {},
   "outputs": [],
   "source": [
    "X_train , Y_train = generate_dataset(N)"
   ]
  },
  {
   "cell_type": "code",
   "execution_count": 16,
   "id": "7c02dec6-a337-4b40-b79a-ee9d384492f5",
   "metadata": {},
   "outputs": [],
   "source": [
    "# cmap = ['red', 'orange']\n",
    "# plt.scatter(X_train[:,0], X_train[:,1], c= Y_train, cmap = ListedColormap(cmap) , marker = '.')\n",
    "\n",
    "# plt.xlabel(\"Width\")\n",
    "# plt.ylabel(\"Lenght\")\n",
    "# plt.show()"
   ]
  },
  {
   "cell_type": "code",
   "execution_count": 17,
   "id": "558a311a-1a7c-4a9e-98da-2fca7f2dbf2d",
   "metadata": {},
   "outputs": [],
   "source": [
    "#KNN"
   ]
  },
  {
   "cell_type": "code",
   "execution_count": 18,
   "id": "1c86137d-0309-4f90-b0fd-b808764fab68",
   "metadata": {},
   "outputs": [
    {
     "name": "stdout",
     "output_type": "stream",
     "text": [
      "[1, 0]\n",
      "banana🍌\n",
      "apple🍅\n"
     ]
    }
   ],
   "source": [
    "knn = KNN(k=5)\n",
    "knn.fit(X_train , Y_train)\n",
    "new_fruit = np.array([3,8.4])\n",
    "new_fruit2 = np.array([6,6])\n",
    "new_fruits = [new_fruit , new_fruit2]\n",
    "outputs = knn.predict(new_fruits)\n",
    "print(outputs)\n",
    "for output in outputs: \n",
    "    if output == 0 : \n",
    "        print('apple🍅')\n",
    "    else:\n",
    "        print('banana🍌')\n",
    "            "
   ]
  },
  {
   "cell_type": "code",
   "execution_count": 19,
   "id": "eb74160e-5a51-4397-8254-864cb4804e11",
   "metadata": {},
   "outputs": [],
   "source": [
    "X_test , Y_test = generate_dataset(90)"
   ]
  },
  {
   "cell_type": "code",
   "execution_count": 20,
   "id": "c0fa8079-9980-43e9-851d-affdd3592fee",
   "metadata": {},
   "outputs": [
    {
     "data": {
      "text/plain": [
       "0.9333333333333333"
      ]
     },
     "execution_count": 20,
     "metadata": {},
     "output_type": "execute_result"
    }
   ],
   "source": [
    "knn.evaluate(X_test , Y_test)"
   ]
  },
  {
   "cell_type": "code",
   "execution_count": 21,
   "id": "1e451c4e-dc53-4d34-a06c-c65517e40e22",
   "metadata": {},
   "outputs": [],
   "source": [
    "Y_pred = knn.predict(X_test)"
   ]
  },
  {
   "cell_type": "code",
   "execution_count": 22,
   "id": "dca41509-5041-4b18-90be-2bc0cc88ad29",
   "metadata": {},
   "outputs": [],
   "source": [
    "confusion_matrix = np.zeros((2,2))\n",
    "for i in range (180):\n",
    "    if Y_pred[i] == 0 and  Y_test[i] == 0:\n",
    "        confusion_matrix[0][0] += 1 \n",
    "    if Y_pred[i] == 0 and Y_test[i] == 1 :\n",
    "        confusion_matrix[0][0] += 1 \n",
    "    "
   ]
  },
  {
   "cell_type": "code",
   "execution_count": 23,
   "id": "923e2d6b-f0fc-4e72-b13b-cb8c13d3f3a5",
   "metadata": {},
   "outputs": [
    {
     "data": {
      "text/plain": [
       "array([[94.,  0.],\n",
       "       [ 0.,  0.]])"
      ]
     },
     "execution_count": 23,
     "metadata": {},
     "output_type": "execute_result"
    }
   ],
   "source": [
    "confusion_matrix"
   ]
  },
  {
   "cell_type": "code",
   "execution_count": 24,
   "id": "576f2bb7-1c52-407c-a6c6-4211352893eb",
   "metadata": {},
   "outputs": [
    {
     "data": {
      "text/plain": [
       "0.9333333333333333"
      ]
     },
     "execution_count": 24,
     "metadata": {},
     "output_type": "execute_result"
    }
   ],
   "source": [
    "from sklearn.neighbors import KNeighborsClassifier\n",
    "knn = KNeighborsClassifier(n_neighbors = 5 )\n",
    "knn.fit(X_train , Y_train)\n",
    "knn.predict(new_fruits)\n",
    "knn.score(X_test, Y_test)"
   ]
  },
  {
   "cell_type": "code",
   "execution_count": null,
   "id": "9583e1d1-0097-423b-815b-02ecc6edc049",
   "metadata": {},
   "outputs": [],
   "source": []
  },
  {
   "cell_type": "code",
   "execution_count": null,
   "id": "97eddd9b-c04e-497f-9ad5-ea05a424bb16",
   "metadata": {},
   "outputs": [],
   "source": []
  },
  {
   "cell_type": "code",
   "execution_count": null,
   "id": "8871bde9-4df0-4c73-bd27-aa7d7db68124",
   "metadata": {},
   "outputs": [],
   "source": []
  },
  {
   "cell_type": "code",
   "execution_count": null,
   "id": "aa9c9543-79f1-45f0-a4a2-7369e26119d1",
   "metadata": {},
   "outputs": [],
   "source": []
  }
 ],
 "metadata": {
  "kernelspec": {
   "display_name": "Python 3 (ipykernel)",
   "language": "python",
   "name": "python3"
  },
  "language_info": {
   "codemirror_mode": {
    "name": "ipython",
    "version": 3
   },
   "file_extension": ".py",
   "mimetype": "text/x-python",
   "name": "python",
   "nbconvert_exporter": "python",
   "pygments_lexer": "ipython3",
   "version": "3.11.3"
  }
 },
 "nbformat": 4,
 "nbformat_minor": 5
}
